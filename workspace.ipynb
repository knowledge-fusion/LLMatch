{
    "cells": [
        {
            "cell_type": "code",
            "execution_count": 1,
            "id": "254c7fb6-65ed-4c53-8440-ca43deefcdd7",
            "metadata": {},
            "outputs": [],
            "source": [
                "import pandas as pd\n",
                "%load_ext autoreload\n",
                "%autoreload 2"
            ]
        },
        {
            "cell_type": "code",
            "execution_count": 14,
            "id": "937a26c0-ad2e-4e6c-ace9-06642f88be91",
            "metadata": {},
            "outputs": [],
            "source": [
                "filename = \"dataset/OMOP_Synthea_Data.csv\""
            ]
        },
        {
            "cell_type": "code",
            "execution_count": 15,
            "id": "4f6dfbf2-62d5-468f-a0c1-e177f3e831f1",
            "metadata": {},
            "outputs": [],
            "source": [
                "df = pd.read_csv(filename)\n"
            ]
        },
        {
            "cell_type": "code",
            "execution_count": 16,
            "id": "de382bc1-f413-4e56-8299-43ebb03685e8",
            "metadata": {},
            "outputs": [],
            "source": [
                "df.head()\n",
                "df = df.rename(columns={\"TableName\": \"table\", \"TableDesc\": \"table_description\", \"ColumnName\": \"column\", \"ColumnDesc\": \"column_description\"})"
            ]
        },
        {
            "cell_type": "code",
            "execution_count": 20,
            "id": "c276b8ce-7763-4def-9d1d-9e18f43b7948",
            "metadata": {},
            "outputs": [],
            "source": [
                "from llm_ontology_alignment.utils import separate_dataset, format_dataset\n",
                "# source_df = pd.read_csv(\"dataset/MIMIC_III_Schema.csv\")\n",
                "# source_df = source_df.rename(columns={\"TableName\": \"table\", \"TableDesc\": \"table_description\", \"ColumnName\": \"column\", \"ColumnDesc\": \"column_description\"})\n",
                "# target_df = pd.read_csv(\"dataset/OMOP_Schema.csv\")\n",
                "# target_df = target_df.rename(columns={\"TableName\": \"table\", \"TableDesc\": \"table_description\", \"ColumnName\": \"column\", \"ColumnDesc\": \"column_description\"})\n",
                "# target_schema = format_dataset(target_df)\n",
                "# source_schema = format_dataset(source_df)\n",
                "\n",
                "source_schema, target_schema, ground_truth = separate_dataset(df, source=\"omop\", target=\"table\")"
            ]
        },
        {
            "cell_type": "code",
            "execution_count": 21,
            "id": "e9544668-7607-47cf-a435-16d8ea5166d5",
            "metadata": {},
            "outputs": [
                {
                    "name": "stdout",
                    "output_type": "stream",
                    "text": [
                        "dict_keys(['person', 'visit_occurrence', 'visit_detail', 'specimen', 'measurement', 'procedure_occurrence', 'condition_occurrence', 'death', 'location', 'observation', 'observation_period', 'drug_exposure', 'device_exposure', 'note', 'fact_relationship', 'payer_plan_period', 'cdm_source', 'care_site', 'cohort', 'cohort_definition', 'provider'])\n",
                        "12\n"
                    ]
                }
            ],
            "source": [
                "print(source_schema.keys())\n",
                "print(len(target_schema.keys()))"
            ]
        },
        {
            "cell_type": "code",
            "execution_count": 19,
            "id": "4a7d3090-a841-4611-a609-8deaf35ed51e",
            "metadata": {},
            "outputs": [
                {
                    "name": "stdout",
                    "output_type": "stream",
                    "text": [
                        "[{'source_table': 'person', 'source_column': 'gender_concept_id', 'target_table': 'patients', 'target_column': 'gender'}, {'source_table': 'person', 'source_column': 'year_of_birth', 'target_table': 'patients', 'target_column': 'birthdate'}]\n"
                    ]
                }
            ],
            "source": [
                "print(ground_truth[0:2])\n",
                "import csv\n",
                "csv_file = 'OMOP_Synthea_Mapping.csv'\n",
                "keys = ground_truth[0].keys()\n",
                "with open(csv_file, 'w', newline='') as output_file:\n",
                "    dict_writer = csv.DictWriter(output_file, fieldnames=keys)\n",
                "    dict_writer.writeheader()\n",
                "    dict_writer.writerows(ground_truth)"
            ]
        },
        {
            "cell_type": "code",
            "execution_count": 99,
            "id": "0be72300-df4c-4a12-9cba-b6817a111275",
            "metadata": {},
            "outputs": [],
            "source": [
                "from llm_ontology_alignment import save_embeddings\n",
                "save_embeddings(\"MIMIC_OMOP\", source_schema, target_schema)"
            ]
        },
        {
            "cell_type": "code",
            "execution_count": 100,
            "id": "d24b724d-1ccb-4791-a95f-56f53268bb82",
            "metadata": {},
            "outputs": [],
            "source": [
                "from llm_ontology_alignment import load_embeddings, store_embeddings\n",
                "source_schema, target_schema = load_embeddings(\"MIMIC_OMOP\")\n",
                "store_embeddings(source_schema, target_schema)"
            ]
        },
        {
            "cell_type": "code",
            "execution_count": 23,
            "id": "616e5f6a-7a1d-49af-aefc-ba3b6b306407",
            "metadata": {},
            "outputs": [
                {
                    "name": "stdout",
                    "output_type": "stream",
                    "text": [
                        "{'person_id': {'column_description': 'a unique identifier for each person.', 'id': '091bc3fe347c48e1982faba3b1f7c674', 'table': 'person', 'column': 'person_id', 'table_description': 'the person domain contains records that uniquely identify each patient in the source data who is time at-risk to have clinical observations recorded within the source systems.'}, 'gender_concept_id': {'column_description': 'a foreign key that refers to an identifier in the concept table for the unique gender of the person.', 'id': '9f1ad7d5dd18419a9fd7213cbf252d98', 'table': 'person', 'column': 'gender_concept_id', 'table_description': 'the person domain contains records that uniquely identify each patient in the source data who is time at-risk to have clinical observations recorded within the source systems.'}, 'year_of_birth': {'column_description': 'the year of birth of the person. for data sources with date of birth, the year is extracted. for data sources where the year of birth is not available, the approximate year of birth is derived based on any age group categorization available.', 'id': 'eda1ad4820d0466eba7c3830d26a30c8', 'table': 'person', 'column': 'year_of_birth', 'table_description': 'the person domain contains records that uniquely identify each patient in the source data who is time at-risk to have clinical observations recorded within the source systems.'}, 'month_of_birth': {'column_description': 'the month of birth of the person. for data sources that provide the precise date of birth, the month is extracted and stored in this field.', 'id': '65adbaa8d84e4fb8ac0fa11237b39c89', 'table': 'person', 'column': 'month_of_birth', 'table_description': 'the person domain contains records that uniquely identify each patient in the source data who is time at-risk to have clinical observations recorded within the source systems.'}, 'day_of_birth': {'column_description': 'the day of the month of birth of the person. for data sources that provide the precise date of birth, the day is extracted and stored in this field.', 'id': 'b3ef4c55da4f4c0cbb035b9b5ae3bc94', 'table': 'person', 'column': 'day_of_birth', 'table_description': 'the person domain contains records that uniquely identify each patient in the source data who is time at-risk to have clinical observations recorded within the source systems.'}, 'birth_datetime': {'column_description': 'the date and time of birth of the person.', 'id': '65712a48db6a4c86b0ea4f4f12b62920', 'table': 'person', 'column': 'birth_datetime', 'table_description': 'the person domain contains records that uniquely identify each patient in the source data who is time at-risk to have clinical observations recorded within the source systems.'}, 'death_datetime': {'column_description': 'the date and time of death of the person.', 'id': '9e95e1d83c74441a974b448cec1f0324', 'table': 'person', 'column': 'death_datetime', 'table_description': 'the person domain contains records that uniquely identify each patient in the source data who is time at-risk to have clinical observations recorded within the source systems.'}, 'race_concept_id': {'column_description': \"a foreign key that refers to an identifier in the concept table for the unique race of the person, belonging to the 'race' vocabulary.\", 'id': '5ca095df37f94862bd2e7f2757b0eab9', 'table': 'person', 'column': 'race_concept_id', 'table_description': 'the person domain contains records that uniquely identify each patient in the source data who is time at-risk to have clinical observations recorded within the source systems.'}, 'ethnicity_concept_id': {'column_description': \"a foreign key that refers to the standard concept identifier in the standardized vocabularies for the ethnicity of the person, belonging to the 'ethnicity' vocabulary.\", 'id': 'ddcef58cb46c451f92803176dc79abe7', 'table': 'person', 'column': 'ethnicity_concept_id', 'table_description': 'the person domain contains records that uniquely identify each patient in the source data who is time at-risk to have clinical observations recorded within the source systems.'}, 'location_id': {'column_description': 'a foreign key to the place of residency for the person in the location table, where the detailed address information is stored.', 'id': '67c990557ccb4c9c8c10f13110c1692c', 'table': 'person', 'column': 'location_id', 'table_description': 'the person domain contains records that uniquely identify each patient in the source data who is time at-risk to have clinical observations recorded within the source systems.'}, 'provider_id': {'column_description': 'a foreign key to the primary care provider the person is seeing in the provider table.', 'id': '10d91eed3a6941cf9d2cbaf2f524431d', 'table': 'person', 'column': 'provider_id', 'table_description': 'the person domain contains records that uniquely identify each patient in the source data who is time at-risk to have clinical observations recorded within the source systems.'}, 'care_site_id': {'column_description': 'a foreign key to the site of primary care in the care_site table, where the details of the care site are stored.', 'id': '2bcb74fd0067440b8b2e6b6ba22bf0e8', 'table': 'person', 'column': 'care_site_id', 'table_description': 'the person domain contains records that uniquely identify each patient in the source data who is time at-risk to have clinical observations recorded within the source systems.'}, 'person_source_value': {'column_description': 'an (encrypted) key derived from the person identifier in the source data. this is necessary when a use case requires a link back to the person data at the source dataset.', 'id': 'ca7c2bdbc6e7410b9d9570dbeb1b7b6e', 'table': 'person', 'column': 'person_source_value', 'table_description': 'the person domain contains records that uniquely identify each patient in the source data who is time at-risk to have clinical observations recorded within the source systems.'}, 'gender_source_value': {'column_description': 'the source code for the gender of the person as it appears in the source data. the person\u2019s gender is mapped to a standard gender concept in the standardized vocabularies', 'id': '3ce46a8ec4f047e3800c293b7a76e9bd', 'table': 'person', 'column': 'gender_source_value', 'table_description': 'the person domain contains records that uniquely identify each patient in the source data who is time at-risk to have clinical observations recorded within the source systems.'}, 'gender_source_concept_id': {'column_description': 'a foreign key to the gender concept that refers to the code used in the source.', 'id': '05f7be6d6a1f47ac9309765806e3e476', 'table': 'person', 'column': 'gender_source_concept_id', 'table_description': 'the person domain contains records that uniquely identify each patient in the source data who is time at-risk to have clinical observations recorded within the source systems.'}, 'race_source_value': {'column_description': 'the source code for the race of the person as it appears in the source data. the person race is mapped to a standard race concept in the standardized vocabularies and the original value is stored here for reference.', 'id': 'ac227f15240248dd867278121a7cf34b', 'table': 'person', 'column': 'race_source_value', 'table_description': 'the person domain contains records that uniquely identify each patient in the source data who is time at-risk to have clinical observations recorded within the source systems.'}, 'race_source_concept_id': {'column_description': 'a foreign key to the race concept that refers to the code used in the source.', 'id': 'df720a98ac9b496db5dc0c86e65a080e', 'table': 'person', 'column': 'race_source_concept_id', 'table_description': 'the person domain contains records that uniquely identify each patient in the source data who is time at-risk to have clinical observations recorded within the source systems.'}, 'ethnicity_source_value': {'column_description': 'the source code for the ethnicity of the person as it appears in the source data. the person ethnicity is mapped to a standard ethnicity concept in the standardized vocabularies and the original code is, stored here for reference.', 'id': 'bcb46f8f8a5f4c6993f86ee06f574700', 'table': 'person', 'column': 'ethnicity_source_value', 'table_description': 'the person domain contains records that uniquely identify each patient in the source data who is time at-risk to have clinical observations recorded within the source systems.'}, 'ethnicity_source_concept_id': {'column_description': 'a foreign key to the ethnicity concept that refers to the code used in the source.', 'id': '1a81c162489740c8954ddb2d579bf9ef', 'table': 'person', 'column': 'ethnicity_source_concept_id', 'table_description': 'the person domain contains records that uniquely identify each patient in the source data who is time at-risk to have clinical observations recorded within the source systems.'}}\n"
                    ]
                }
            ],
            "source": [
                "print(source_schema['person'])"
            ]
        },
        {
            "cell_type": "code",
            "execution_count": 24,
            "id": "f3567043-6be6-49cf-86ba-5fe6273d2eb1",
            "metadata": {},
            "outputs": [
                {
                    "name": "stdout",
                    "output_type": "stream",
                    "text": [
                        "dict_keys(['person_id', 'gender_concept_id', 'year_of_birth', 'month_of_birth', 'day_of_birth', 'birth_datetime', 'death_datetime', 'race_concept_id', 'ethnicity_concept_id', 'location_id', 'provider_id', 'care_site_id', 'person_source_value', 'gender_source_value', 'gender_source_concept_id', 'race_source_value', 'race_source_concept_id', 'ethnicity_source_value', 'ethnicity_source_concept_id'])\n"
                    ]
                }
            ],
            "source": [
                "print(source_schema['person'].keys())"
            ]
        },
        {
            "cell_type": "code",
            "execution_count": null,
            "id": "4f8ae405-6fbd-47cc-afd8-dcf3ce0411a8",
            "metadata": {},
            "outputs": [],
            "source": []
        }
    ],
    "metadata": {
        "kernelspec": {
            "display_name": "Python 3 (ipykernel)",
            "language": "python",
            "name": "python3"
        },
        "language_info": {
            "codemirror_mode": {
                "name": "ipython",
                "version": 3
            },
            "file_extension": ".py",
            "mimetype": "text/x-python",
            "name": "python",
            "nbconvert_exporter": "python",
            "pygments_lexer": "ipython3",
            "version": "3.11.6"
        }
    },
    "nbformat": 4,
    "nbformat_minor": 5
}
