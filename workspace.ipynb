{
 "cells": [
  {
   "cell_type": "code",
   "execution_count": 1,
   "id": "254c7fb6-65ed-4c53-8440-ca43deefcdd7",
   "metadata": {},
   "outputs": [],
   "source": [
    "import pandas as pd\n",
    "%load_ext autoreload\n",
    "%autoreload 2\n",
    "from IPython.display import display, Markdown\n"
   ]
  },
  {
   "cell_type": "code",
   "execution_count": 2,
   "id": "0be72300-df4c-4a12-9cba-b6817a111275",
   "metadata": {},
   "outputs": [],
   "source": [
    "from llm_ontology_alignment.evaluations.ontology_matching_evaluation import *"
   ]
  },
  {
   "cell_type": "code",
   "execution_count": 3,
   "id": "d24b724d-1ccb-4791-a95f-56f53268bb82",
   "metadata": {},
   "outputs": [],
   "source": [
    "df = get_full_results_df()"
   ]
  },
  {
   "cell_type": "code",
   "execution_count": 4,
   "id": "bba4d2bf-4d66-4ec5-9c1f-530f51d9bca9",
   "metadata": {},
   "outputs": [
    {
     "data": {
      "text/html": [
       "<div>\n",
       "<style scoped>\n",
       "    .dataframe tbody tr th:only-of-type {\n",
       "        vertical-align: middle;\n",
       "    }\n",
       "\n",
       "    .dataframe tbody tr th {\n",
       "        vertical-align: top;\n",
       "    }\n",
       "\n",
       "    .dataframe thead th {\n",
       "        text-align: right;\n",
       "    }\n",
       "</style>\n",
       "<table border=\"1\" class=\"dataframe\">\n",
       "  <thead>\n",
       "    <tr style=\"text-align: right;\">\n",
       "      <th></th>\n",
       "      <th>source_database</th>\n",
       "      <th>target_database</th>\n",
       "      <th>table_selection_strategy</th>\n",
       "      <th>column_matching_strategy</th>\n",
       "      <th>table_selection_llm</th>\n",
       "      <th>column_matching_llm</th>\n",
       "      <th>matching_llm</th>\n",
       "      <th>rewrite_llm</th>\n",
       "      <th>rewrite_prompt_tokens</th>\n",
       "      <th>rewrite_completion_tokens</th>\n",
       "      <th>rewrite_duration</th>\n",
       "      <th>matching_prompt_tokens</th>\n",
       "      <th>matching_completion_tokens</th>\n",
       "      <th>matching_duration</th>\n",
       "      <th>total_duration</th>\n",
       "      <th>precision</th>\n",
       "      <th>recall</th>\n",
       "      <th>f1_score</th>\n",
       "      <th>total_model_cost</th>\n",
       "      <th>version</th>\n",
       "    </tr>\n",
       "  </thead>\n",
       "  <tbody>\n",
       "    <tr>\n",
       "      <th>0</th>\n",
       "      <td>imdb</td>\n",
       "      <td>sakila</td>\n",
       "      <td>llm-reasoning</td>\n",
       "      <td>llm-reasoning</td>\n",
       "      <td>gpt-4o</td>\n",
       "      <td>gpt-4o</td>\n",
       "      <td>gpt-4o</td>\n",
       "      <td>gpt-4o</td>\n",
       "      <td>20136.0</td>\n",
       "      <td>7580.0</td>\n",
       "      <td>176.372</td>\n",
       "      <td>27051.0</td>\n",
       "      <td>4224.0</td>\n",
       "      <td>245.788</td>\n",
       "      <td>422.160</td>\n",
       "      <td>1.00</td>\n",
       "      <td>0.92</td>\n",
       "      <td>0.96</td>\n",
       "      <td>0.413</td>\n",
       "      <td>5</td>\n",
       "    </tr>\n",
       "    <tr>\n",
       "      <th>1</th>\n",
       "      <td>imdb</td>\n",
       "      <td>sakila</td>\n",
       "      <td>llm-reasoning</td>\n",
       "      <td>llm-reasoning</td>\n",
       "      <td>gpt-3.5-turbo</td>\n",
       "      <td>gpt-3.5-turbo</td>\n",
       "      <td>gpt-3.5-turbo</td>\n",
       "      <td>gpt-3.5-turbo</td>\n",
       "      <td>20302.0</td>\n",
       "      <td>8223.0</td>\n",
       "      <td>92.430</td>\n",
       "      <td>23678.0</td>\n",
       "      <td>3743.0</td>\n",
       "      <td>43.783</td>\n",
       "      <td>136.213</td>\n",
       "      <td>0.80</td>\n",
       "      <td>0.67</td>\n",
       "      <td>0.73</td>\n",
       "      <td>0.028</td>\n",
       "      <td>5</td>\n",
       "    </tr>\n",
       "    <tr>\n",
       "      <th>2</th>\n",
       "      <td>omop</td>\n",
       "      <td>cms</td>\n",
       "      <td>llm-reasoning</td>\n",
       "      <td>llm-reasoning</td>\n",
       "      <td>gpt-4o</td>\n",
       "      <td>gpt-4o</td>\n",
       "      <td>gpt-4o</td>\n",
       "      <td>gpt-4o</td>\n",
       "      <td>55288.0</td>\n",
       "      <td>31752.0</td>\n",
       "      <td>653.000</td>\n",
       "      <td>172820.0</td>\n",
       "      <td>31321.0</td>\n",
       "      <td>749.000</td>\n",
       "      <td>1402.000</td>\n",
       "      <td>0.66</td>\n",
       "      <td>0.66</td>\n",
       "      <td>0.66</td>\n",
       "      <td>2.087</td>\n",
       "      <td>4</td>\n",
       "    </tr>\n",
       "    <tr>\n",
       "      <th>3</th>\n",
       "      <td>omop</td>\n",
       "      <td>cms</td>\n",
       "      <td>llm-reasoning</td>\n",
       "      <td>llm-reasoning</td>\n",
       "      <td>gpt-3.5-turbo</td>\n",
       "      <td>gpt-3.5-turbo</td>\n",
       "      <td>gpt-3.5-turbo</td>\n",
       "      <td>gpt-3.5-turbo</td>\n",
       "      <td>52780.0</td>\n",
       "      <td>31210.0</td>\n",
       "      <td>366.000</td>\n",
       "      <td>146316.0</td>\n",
       "      <td>32918.0</td>\n",
       "      <td>399.000</td>\n",
       "      <td>765.000</td>\n",
       "      <td>0.43</td>\n",
       "      <td>0.68</td>\n",
       "      <td>0.53</td>\n",
       "      <td>0.132</td>\n",
       "      <td>4</td>\n",
       "    </tr>\n",
       "    <tr>\n",
       "      <th>4</th>\n",
       "      <td>mimic_iii</td>\n",
       "      <td>omop</td>\n",
       "      <td>llm-reasoning</td>\n",
       "      <td>llm-reasoning</td>\n",
       "      <td>gpt-4o</td>\n",
       "      <td>gpt-4o</td>\n",
       "      <td>gpt-4o</td>\n",
       "      <td>gpt-4o</td>\n",
       "      <td>74265.0</td>\n",
       "      <td>42679.0</td>\n",
       "      <td>981.102</td>\n",
       "      <td>434005.0</td>\n",
       "      <td>38483.0</td>\n",
       "      <td>3876.965</td>\n",
       "      <td>4858.067</td>\n",
       "      <td>0.48</td>\n",
       "      <td>0.70</td>\n",
       "      <td>0.57</td>\n",
       "      <td>3.759</td>\n",
       "      <td>5</td>\n",
       "    </tr>\n",
       "  </tbody>\n",
       "</table>\n",
       "</div>"
      ],
      "text/plain": [
       "  source_database target_database table_selection_strategy  \\\n",
       "0            imdb          sakila            llm-reasoning   \n",
       "1            imdb          sakila            llm-reasoning   \n",
       "2            omop             cms            llm-reasoning   \n",
       "3            omop             cms            llm-reasoning   \n",
       "4       mimic_iii            omop            llm-reasoning   \n",
       "\n",
       "  column_matching_strategy table_selection_llm column_matching_llm  \\\n",
       "0            llm-reasoning              gpt-4o              gpt-4o   \n",
       "1            llm-reasoning       gpt-3.5-turbo       gpt-3.5-turbo   \n",
       "2            llm-reasoning              gpt-4o              gpt-4o   \n",
       "3            llm-reasoning       gpt-3.5-turbo       gpt-3.5-turbo   \n",
       "4            llm-reasoning              gpt-4o              gpt-4o   \n",
       "\n",
       "    matching_llm    rewrite_llm  rewrite_prompt_tokens  \\\n",
       "0         gpt-4o         gpt-4o                20136.0   \n",
       "1  gpt-3.5-turbo  gpt-3.5-turbo                20302.0   \n",
       "2         gpt-4o         gpt-4o                55288.0   \n",
       "3  gpt-3.5-turbo  gpt-3.5-turbo                52780.0   \n",
       "4         gpt-4o         gpt-4o                74265.0   \n",
       "\n",
       "   rewrite_completion_tokens  rewrite_duration  matching_prompt_tokens  \\\n",
       "0                     7580.0           176.372                 27051.0   \n",
       "1                     8223.0            92.430                 23678.0   \n",
       "2                    31752.0           653.000                172820.0   \n",
       "3                    31210.0           366.000                146316.0   \n",
       "4                    42679.0           981.102                434005.0   \n",
       "\n",
       "   matching_completion_tokens  matching_duration  total_duration  precision  \\\n",
       "0                      4224.0            245.788         422.160       1.00   \n",
       "1                      3743.0             43.783         136.213       0.80   \n",
       "2                     31321.0            749.000        1402.000       0.66   \n",
       "3                     32918.0            399.000         765.000       0.43   \n",
       "4                     38483.0           3876.965        4858.067       0.48   \n",
       "\n",
       "   recall  f1_score  total_model_cost  version  \n",
       "0    0.92      0.96             0.413        5  \n",
       "1    0.67      0.73             0.028        5  \n",
       "2    0.66      0.66             2.087        4  \n",
       "3    0.68      0.53             0.132        4  \n",
       "4    0.70      0.57             3.759        5  "
      ]
     },
     "execution_count": 4,
     "metadata": {},
     "output_type": "execute_result"
    }
   ],
   "source": [
    "df.head()"
   ]
  },
  {
   "cell_type": "code",
   "execution_count": 5,
   "id": "918c4e13-d970-4bff-b9bb-50d3d06976f9",
   "metadata": {},
   "outputs": [
    {
     "data": {
      "text/html": [
       "<style type=\"text/css\">\n",
       "#T_f5438_row4_col1, #T_f5438_row5_col0, #T_f5438_row5_col1, #T_f5438_row5_col4, #T_f5438_row6_col2, #T_f5438_row6_col3 {\n",
       "  text-decoration: underline;\n",
       "}\n",
       "#T_f5438_row5_col2, #T_f5438_row5_col3, #T_f5438_row6_col0, #T_f5438_row6_col1, #T_f5438_row6_col4 {\n",
       "  font-weight: bold;\n",
       "}\n",
       "</style>\n",
       "<table id=\"T_f5438\">\n",
       "  <thead>\n",
       "    <tr>\n",
       "      <th class=\"blank level0\" >&nbsp;</th>\n",
       "      <th id=\"T_f5438_level0_col0\" class=\"col_heading level0 col0\" >imdb-sakila</th>\n",
       "      <th id=\"T_f5438_level0_col1\" class=\"col_heading level0 col1\" >cms-omop</th>\n",
       "      <th id=\"T_f5438_level0_col2\" class=\"col_heading level0 col2\" >cprd_aurum-omop</th>\n",
       "      <th id=\"T_f5438_level0_col3\" class=\"col_heading level0 col3\" >cprd_gold-omop</th>\n",
       "      <th id=\"T_f5438_level0_col4\" class=\"col_heading level0 col4\" >mimic_iii-omop</th>\n",
       "    </tr>\n",
       "  </thead>\n",
       "  <tbody>\n",
       "    <tr>\n",
       "      <th id=\"T_f5438_level0_row0\" class=\"row_heading level0 row0\" >Coma</th>\n",
       "      <td id=\"T_f5438_row0_col0\" class=\"data row0 col0\" >0.150</td>\n",
       "      <td id=\"T_f5438_row0_col1\" class=\"data row0 col1\" >0.040</td>\n",
       "      <td id=\"T_f5438_row0_col2\" class=\"data row0 col2\" >0.000</td>\n",
       "      <td id=\"T_f5438_row0_col3\" class=\"data row0 col3\" >0.020</td>\n",
       "      <td id=\"T_f5438_row0_col4\" class=\"data row0 col4\" >0.040</td>\n",
       "    </tr>\n",
       "    <tr>\n",
       "      <th id=\"T_f5438_level0_row1\" class=\"row_heading level0 row1\" >SimilarityFlood</th>\n",
       "      <td id=\"T_f5438_row1_col0\" class=\"data row1 col0\" >0.200</td>\n",
       "      <td id=\"T_f5438_row1_col1\" class=\"data row1 col1\" >0.040</td>\n",
       "      <td id=\"T_f5438_row1_col2\" class=\"data row1 col2\" >0.100</td>\n",
       "      <td id=\"T_f5438_row1_col3\" class=\"data row1 col3\" >0.020</td>\n",
       "      <td id=\"T_f5438_row1_col4\" class=\"data row1 col4\" >0.070</td>\n",
       "    </tr>\n",
       "    <tr>\n",
       "      <th id=\"T_f5438_level0_row2\" class=\"row_heading level0 row2\" >Unicorn</th>\n",
       "      <td id=\"T_f5438_row2_col0\" class=\"data row2 col0\" >0.000</td>\n",
       "      <td id=\"T_f5438_row2_col1\" class=\"data row2 col1\" >0.003</td>\n",
       "      <td id=\"T_f5438_row2_col2\" class=\"data row2 col2\" >0.018</td>\n",
       "      <td id=\"T_f5438_row2_col3\" class=\"data row2 col3\" >0.035</td>\n",
       "      <td id=\"T_f5438_row2_col4\" class=\"data row2 col4\" >0.015</td>\n",
       "    </tr>\n",
       "    <tr>\n",
       "      <th id=\"T_f5438_level0_row3\" class=\"row_heading level0 row3\" >Rematch-gpt-3.5</th>\n",
       "      <td id=\"T_f5438_row3_col0\" class=\"data row3 col0\" >0.430</td>\n",
       "      <td id=\"T_f5438_row3_col1\" class=\"data row3 col1\" >0.170</td>\n",
       "      <td id=\"T_f5438_row3_col2\" class=\"data row3 col2\" >0.090</td>\n",
       "      <td id=\"T_f5438_row3_col3\" class=\"data row3 col3\" >0.040</td>\n",
       "      <td id=\"T_f5438_row3_col4\" class=\"data row3 col4\" >0.350</td>\n",
       "    </tr>\n",
       "    <tr>\n",
       "      <th id=\"T_f5438_level0_row4\" class=\"row_heading level0 row4\" >Rematch-gpt-4o</th>\n",
       "      <td id=\"T_f5438_row4_col0\" class=\"data row4 col0\" >0.550</td>\n",
       "      <td id=\"T_f5438_row4_col1\" class=\"data row4 col1\" >0.370</td>\n",
       "      <td id=\"T_f5438_row4_col2\" class=\"data row4 col2\" >0.260</td>\n",
       "      <td id=\"T_f5438_row4_col3\" class=\"data row4 col3\" >0.130</td>\n",
       "      <td id=\"T_f5438_row4_col4\" class=\"data row4 col4\" >0.370</td>\n",
       "    </tr>\n",
       "    <tr>\n",
       "      <th id=\"T_f5438_level0_row5\" class=\"row_heading level0 row5\" >Ours-gpt-3.5</th>\n",
       "      <td id=\"T_f5438_row5_col0\" class=\"data row5 col0\" >0.720</td>\n",
       "      <td id=\"T_f5438_row5_col1\" class=\"data row5 col1\" >0.370</td>\n",
       "      <td id=\"T_f5438_row5_col2\" class=\"data row5 col2\" >0.500</td>\n",
       "      <td id=\"T_f5438_row5_col3\" class=\"data row5 col3\" >0.330</td>\n",
       "      <td id=\"T_f5438_row5_col4\" class=\"data row5 col4\" >0.420</td>\n",
       "    </tr>\n",
       "    <tr>\n",
       "      <th id=\"T_f5438_level0_row6\" class=\"row_heading level0 row6\" >Ours-gpt-4o</th>\n",
       "      <td id=\"T_f5438_row6_col0\" class=\"data row6 col0\" >0.820</td>\n",
       "      <td id=\"T_f5438_row6_col1\" class=\"data row6 col1\" >0.480</td>\n",
       "      <td id=\"T_f5438_row6_col2\" class=\"data row6 col2\" >0.430</td>\n",
       "      <td id=\"T_f5438_row6_col3\" class=\"data row6 col3\" >0.320</td>\n",
       "      <td id=\"T_f5438_row6_col4\" class=\"data row6 col4\" >0.600</td>\n",
       "    </tr>\n",
       "  </tbody>\n",
       "</table>\n"
      ],
      "text/plain": [
       "<pandas.io.formats.style.Styler at 0x11794f5d0>"
      ]
     },
     "execution_count": 5,
     "metadata": {},
     "output_type": "execute_result"
    }
   ],
   "source": [
    "from llm_ontology_alignment.evaluations.ontology_matching_evaluation import *\n",
    "main_result = get_baseline_performance()\n",
    "main_result"
   ]
  },
  {
   "cell_type": "code",
   "execution_count": 6,
   "id": "6f18f36b-086d-487e-a859-e42c8e600531",
   "metadata": {},
   "outputs": [
    {
     "data": {
      "text/markdown": [
       "#### Effect of table selection strategy (gpt-3.5-rewrite, gpt-3.5-match)"
      ],
      "text/plain": [
       "<IPython.core.display.Markdown object>"
      ]
     },
     "metadata": {},
     "output_type": "display_data"
    },
    {
     "data": {
      "text/html": [
       "<style type=\"text/css\">\n",
       "#T_c7b92_row0_col1, #T_c7b92_row1_col3, #T_c7b92_row3_col0, #T_c7b92_row3_col2, #T_c7b92_row3_col4 {\n",
       "  font-weight: bold;\n",
       "}\n",
       "#T_c7b92_row0_col4, #T_c7b92_row1_col0, #T_c7b92_row1_col2, #T_c7b92_row2_col1, #T_c7b92_row3_col3 {\n",
       "  text-decoration: underline;\n",
       "}\n",
       "</style>\n",
       "<table id=\"T_c7b92\">\n",
       "  <thead>\n",
       "    <tr>\n",
       "      <th class=\"blank level0\" >&nbsp;</th>\n",
       "      <th id=\"T_c7b92_level0_col0\" class=\"col_heading level0 col0\" >imdb-sakila</th>\n",
       "      <th id=\"T_c7b92_level0_col1\" class=\"col_heading level0 col1\" >cms-omop</th>\n",
       "      <th id=\"T_c7b92_level0_col2\" class=\"col_heading level0 col2\" >cprd_aurum-omop</th>\n",
       "      <th id=\"T_c7b92_level0_col3\" class=\"col_heading level0 col3\" >cprd_gold-omop</th>\n",
       "      <th id=\"T_c7b92_level0_col4\" class=\"col_heading level0 col4\" >mimic_iii-omop</th>\n",
       "    </tr>\n",
       "  </thead>\n",
       "  <tbody>\n",
       "    <tr>\n",
       "      <th id=\"T_c7b92_level0_row0\" class=\"row_heading level0 row0\" >Column2Table</th>\n",
       "      <td id=\"T_c7b92_row0_col0\" class=\"data row0 col0\" >0.650</td>\n",
       "      <td id=\"T_c7b92_row0_col1\" class=\"data row0 col1\" >0.450</td>\n",
       "      <td id=\"T_c7b92_row0_col2\" class=\"data row0 col2\" >0.280</td>\n",
       "      <td id=\"T_c7b92_row0_col3\" class=\"data row0 col3\" >0.270</td>\n",
       "      <td id=\"T_c7b92_row0_col4\" class=\"data row0 col4\" >0.380</td>\n",
       "    </tr>\n",
       "    <tr>\n",
       "      <th id=\"T_c7b92_level0_row1\" class=\"row_heading level0 row1\" >Table2Table</th>\n",
       "      <td id=\"T_c7b92_row1_col0\" class=\"data row1 col0\" >0.670</td>\n",
       "      <td id=\"T_c7b92_row1_col1\" class=\"data row1 col1\" >0.200</td>\n",
       "      <td id=\"T_c7b92_row1_col2\" class=\"data row1 col2\" >0.390</td>\n",
       "      <td id=\"T_c7b92_row1_col3\" class=\"data row1 col3\" >0.430</td>\n",
       "      <td id=\"T_c7b92_row1_col4\" class=\"data row1 col4\" >0.330</td>\n",
       "    </tr>\n",
       "    <tr>\n",
       "      <th id=\"T_c7b92_level0_row2\" class=\"row_heading level0 row2\" >NestedJoin</th>\n",
       "      <td id=\"T_c7b92_row2_col0\" class=\"data row2 col0\" >0.370</td>\n",
       "      <td id=\"T_c7b92_row2_col1\" class=\"data row2 col1\" >0.410</td>\n",
       "      <td id=\"T_c7b92_row2_col2\" class=\"data row2 col2\" >0.200</td>\n",
       "      <td id=\"T_c7b92_row2_col3\" class=\"data row2 col3\" >0.250</td>\n",
       "      <td id=\"T_c7b92_row2_col4\" class=\"data row2 col4\" >0.230</td>\n",
       "    </tr>\n",
       "    <tr>\n",
       "      <th id=\"T_c7b92_level0_row3\" class=\"row_heading level0 row3\" >LLM</th>\n",
       "      <td id=\"T_c7b92_row3_col0\" class=\"data row3 col0\" >0.720</td>\n",
       "      <td id=\"T_c7b92_row3_col1\" class=\"data row3 col1\" >0.370</td>\n",
       "      <td id=\"T_c7b92_row3_col2\" class=\"data row3 col2\" >0.500</td>\n",
       "      <td id=\"T_c7b92_row3_col3\" class=\"data row3 col3\" >0.330</td>\n",
       "      <td id=\"T_c7b92_row3_col4\" class=\"data row3 col4\" >0.420</td>\n",
       "    </tr>\n",
       "  </tbody>\n",
       "</table>\n"
      ],
      "text/plain": [
       "<pandas.io.formats.style.Styler at 0x117d89ed0>"
      ]
     },
     "execution_count": 6,
     "metadata": {},
     "output_type": "execute_result"
    }
   ],
   "source": [
    "# effect of different table selection strategy ours-gpt-3.5\n",
    "from llm_ontology_alignment.evaluations.ontology_matching_evaluation import *\n",
    "main_result = effect_of_table_selection_strategy(\"gpt-3.5-turbo\", \"llm\", \"gpt-3.5-turbo\")\n",
    "display(Markdown(\"#### Effect of table selection strategy (gpt-3.5-rewrite, gpt-3.5-match)\"))\n",
    "main_result"
   ]
  },
  {
   "cell_type": "code",
   "execution_count": 7,
   "id": "b47c7aa8-5894-4cee-8e22-572f04d02bb2",
   "metadata": {},
   "outputs": [
    {
     "data": {
      "text/markdown": [
       "#### Effect of table selection strategy (gpt-4o-rewrite, gpt-4o-match"
      ],
      "text/plain": [
       "<IPython.core.display.Markdown object>"
      ]
     },
     "metadata": {},
     "output_type": "display_data"
    },
    {
     "data": {
      "text/html": [
       "<style type=\"text/css\">\n",
       "#T_39d28_row0_col4, #T_39d28_row1_col1, #T_39d28_row1_col3, #T_39d28_row3_col0, #T_39d28_row3_col2, #T_39d28_row3_col4 {\n",
       "  text-decoration: underline;\n",
       "}\n",
       "#T_39d28_row1_col0, #T_39d28_row1_col2, #T_39d28_row1_col4, #T_39d28_row2_col3, #T_39d28_row3_col1 {\n",
       "  font-weight: bold;\n",
       "}\n",
       "</style>\n",
       "<table id=\"T_39d28\">\n",
       "  <thead>\n",
       "    <tr>\n",
       "      <th class=\"blank level0\" >&nbsp;</th>\n",
       "      <th id=\"T_39d28_level0_col0\" class=\"col_heading level0 col0\" >imdb-sakila</th>\n",
       "      <th id=\"T_39d28_level0_col1\" class=\"col_heading level0 col1\" >cms-omop</th>\n",
       "      <th id=\"T_39d28_level0_col2\" class=\"col_heading level0 col2\" >cprd_aurum-omop</th>\n",
       "      <th id=\"T_39d28_level0_col3\" class=\"col_heading level0 col3\" >cprd_gold-omop</th>\n",
       "      <th id=\"T_39d28_level0_col4\" class=\"col_heading level0 col4\" >mimic_iii-omop</th>\n",
       "    </tr>\n",
       "  </thead>\n",
       "  <tbody>\n",
       "    <tr>\n",
       "      <th id=\"T_39d28_level0_row0\" class=\"row_heading level0 row0\" >Column2Table</th>\n",
       "      <td id=\"T_39d28_row0_col0\" class=\"data row0 col0\" >0.730</td>\n",
       "      <td id=\"T_39d28_row0_col1\" class=\"data row0 col1\" >0.360</td>\n",
       "      <td id=\"T_39d28_row0_col2\" class=\"data row0 col2\" >0.280</td>\n",
       "      <td id=\"T_39d28_row0_col3\" class=\"data row0 col3\" >0.280</td>\n",
       "      <td id=\"T_39d28_row0_col4\" class=\"data row0 col4\" >0.600</td>\n",
       "    </tr>\n",
       "    <tr>\n",
       "      <th id=\"T_39d28_level0_row1\" class=\"row_heading level0 row1\" >Table2Table</th>\n",
       "      <td id=\"T_39d28_row1_col0\" class=\"data row1 col0\" >0.850</td>\n",
       "      <td id=\"T_39d28_row1_col1\" class=\"data row1 col1\" >0.400</td>\n",
       "      <td id=\"T_39d28_row1_col2\" class=\"data row1 col2\" >0.640</td>\n",
       "      <td id=\"T_39d28_row1_col3\" class=\"data row1 col3\" >0.450</td>\n",
       "      <td id=\"T_39d28_row1_col4\" class=\"data row1 col4\" >0.620</td>\n",
       "    </tr>\n",
       "    <tr>\n",
       "      <th id=\"T_39d28_level0_row2\" class=\"row_heading level0 row2\" >NestedJoin</th>\n",
       "      <td id=\"T_39d28_row2_col0\" class=\"data row2 col0\" >0.720</td>\n",
       "      <td id=\"T_39d28_row2_col1\" class=\"data row2 col1\" >0.330</td>\n",
       "      <td id=\"T_39d28_row2_col2\" class=\"data row2 col2\" >0.400</td>\n",
       "      <td id=\"T_39d28_row2_col3\" class=\"data row2 col3\" >0.520</td>\n",
       "      <td id=\"T_39d28_row2_col4\" class=\"data row2 col4\" >0.480</td>\n",
       "    </tr>\n",
       "    <tr>\n",
       "      <th id=\"T_39d28_level0_row3\" class=\"row_heading level0 row3\" >LLM</th>\n",
       "      <td id=\"T_39d28_row3_col0\" class=\"data row3 col0\" >0.820</td>\n",
       "      <td id=\"T_39d28_row3_col1\" class=\"data row3 col1\" >0.480</td>\n",
       "      <td id=\"T_39d28_row3_col2\" class=\"data row3 col2\" >0.430</td>\n",
       "      <td id=\"T_39d28_row3_col3\" class=\"data row3 col3\" >0.320</td>\n",
       "      <td id=\"T_39d28_row3_col4\" class=\"data row3 col4\" >0.600</td>\n",
       "    </tr>\n",
       "  </tbody>\n",
       "</table>\n"
      ],
      "text/plain": [
       "<pandas.io.formats.style.Styler at 0x124b6d8d0>"
      ]
     },
     "execution_count": 7,
     "metadata": {},
     "output_type": "execute_result"
    }
   ],
   "source": [
    "main_result = effect_of_table_selection_strategy(\"gpt-4o\", \"llm\", \"gpt-4o\")\n",
    "display(Markdown(\"#### Effect of table selection strategy (gpt-4o-rewrite, gpt-4o-match\"))\n",
    "main_result"
   ]
  },
  {
   "cell_type": "code",
   "execution_count": 8,
   "id": "ee99570e-0242-4e0f-9ad3-0aa2ddf91dbd",
   "metadata": {},
   "outputs": [
    {
     "data": {
      "text/markdown": [
       "#### Effect of table selection strategy (no rewrite, coma"
      ],
      "text/plain": [
       "<IPython.core.display.Markdown object>"
      ]
     },
     "metadata": {},
     "output_type": "display_data"
    },
    {
     "data": {
      "text/html": [
       "<style type=\"text/css\">\n",
       "#T_2022d_row0_col0, #T_2022d_row0_col1, #T_2022d_row0_col4, #T_2022d_row1_col0, #T_2022d_row1_col3, #T_2022d_row2_col0, #T_2022d_row3_col2 {\n",
       "  text-decoration: underline;\n",
       "}\n",
       "#T_2022d_row0_col3, #T_2022d_row1_col1, #T_2022d_row1_col2, #T_2022d_row3_col0, #T_2022d_row3_col4 {\n",
       "  font-weight: bold;\n",
       "}\n",
       "</style>\n",
       "<table id=\"T_2022d\">\n",
       "  <thead>\n",
       "    <tr>\n",
       "      <th class=\"blank level0\" >&nbsp;</th>\n",
       "      <th id=\"T_2022d_level0_col0\" class=\"col_heading level0 col0\" >imdb-sakila</th>\n",
       "      <th id=\"T_2022d_level0_col1\" class=\"col_heading level0 col1\" >cms-omop</th>\n",
       "      <th id=\"T_2022d_level0_col2\" class=\"col_heading level0 col2\" >cprd_aurum-omop</th>\n",
       "      <th id=\"T_2022d_level0_col3\" class=\"col_heading level0 col3\" >cprd_gold-omop</th>\n",
       "      <th id=\"T_2022d_level0_col4\" class=\"col_heading level0 col4\" >mimic_iii-omop</th>\n",
       "    </tr>\n",
       "  </thead>\n",
       "  <tbody>\n",
       "    <tr>\n",
       "      <th id=\"T_2022d_level0_row0\" class=\"row_heading level0 row0\" >Column2Table</th>\n",
       "      <td id=\"T_2022d_row0_col0\" class=\"data row0 col0\" >0.120</td>\n",
       "      <td id=\"T_2022d_row0_col1\" class=\"data row0 col1\" >0.120</td>\n",
       "      <td id=\"T_2022d_row0_col2\" class=\"data row0 col2\" >0.020</td>\n",
       "      <td id=\"T_2022d_row0_col3\" class=\"data row0 col3\" >0.210</td>\n",
       "      <td id=\"T_2022d_row0_col4\" class=\"data row0 col4\" >0.110</td>\n",
       "    </tr>\n",
       "    <tr>\n",
       "      <th id=\"T_2022d_level0_row1\" class=\"row_heading level0 row1\" >Table2Table</th>\n",
       "      <td id=\"T_2022d_row1_col0\" class=\"data row1 col0\" >0.120</td>\n",
       "      <td id=\"T_2022d_row1_col1\" class=\"data row1 col1\" >0.270</td>\n",
       "      <td id=\"T_2022d_row1_col2\" class=\"data row1 col2\" >0.070</td>\n",
       "      <td id=\"T_2022d_row1_col3\" class=\"data row1 col3\" >0.080</td>\n",
       "      <td id=\"T_2022d_row1_col4\" class=\"data row1 col4\" >0.040</td>\n",
       "    </tr>\n",
       "    <tr>\n",
       "      <th id=\"T_2022d_level0_row2\" class=\"row_heading level0 row2\" >NestedJoin</th>\n",
       "      <td id=\"T_2022d_row2_col0\" class=\"data row2 col0\" >0.120</td>\n",
       "      <td id=\"T_2022d_row2_col1\" class=\"data row2 col1\" >0.110</td>\n",
       "      <td id=\"T_2022d_row2_col2\" class=\"data row2 col2\" >0.000</td>\n",
       "      <td id=\"T_2022d_row2_col3\" class=\"data row2 col3\" >0.020</td>\n",
       "      <td id=\"T_2022d_row2_col4\" class=\"data row2 col4\" >0.090</td>\n",
       "    </tr>\n",
       "    <tr>\n",
       "      <th id=\"T_2022d_level0_row3\" class=\"row_heading level0 row3\" >LLM</th>\n",
       "      <td id=\"T_2022d_row3_col0\" class=\"data row3 col0\" >0.260</td>\n",
       "      <td id=\"T_2022d_row3_col1\" class=\"data row3 col1\" >0.080</td>\n",
       "      <td id=\"T_2022d_row3_col2\" class=\"data row3 col2\" >0.050</td>\n",
       "      <td id=\"T_2022d_row3_col3\" class=\"data row3 col3\" >0.050</td>\n",
       "      <td id=\"T_2022d_row3_col4\" class=\"data row3 col4\" >0.200</td>\n",
       "    </tr>\n",
       "  </tbody>\n",
       "</table>\n"
      ],
      "text/plain": [
       "<pandas.io.formats.style.Styler at 0x12431e250>"
      ]
     },
     "execution_count": 8,
     "metadata": {},
     "output_type": "execute_result"
    }
   ],
   "source": [
    "main_result = effect_of_table_selection_strategy(\"original\", \"coma\", \"None\")\n",
    "display(Markdown(\"#### Effect of table selection strategy (no rewrite, coma\"))\n",
    "main_result"
   ]
  },
  {
   "cell_type": "code",
   "execution_count": 9,
   "id": "4abf2c9a-6fb9-4558-a2d2-abb66132a0c8",
   "metadata": {},
   "outputs": [
    {
     "data": {
      "text/markdown": [
       "#### Effect of rewrite (LLM-gpt-4o-table-selection, LLM-4o-column-matching)"
      ],
      "text/plain": [
       "<IPython.core.display.Markdown object>"
      ]
     },
     "metadata": {},
     "output_type": "display_data"
    },
    {
     "data": {
      "text/html": [
       "<style type=\"text/css\">\n",
       "#T_23d5a_row0_col0, #T_23d5a_row0_col1, #T_23d5a_row0_col2, #T_23d5a_row0_col3, #T_23d5a_row1_col4 {\n",
       "  font-weight: bold;\n",
       "}\n",
       "#T_23d5a_row0_col4, #T_23d5a_row1_col0, #T_23d5a_row1_col1, #T_23d5a_row1_col2, #T_23d5a_row1_col3 {\n",
       "  text-decoration: underline;\n",
       "}\n",
       "</style>\n",
       "<table id=\"T_23d5a\">\n",
       "  <thead>\n",
       "    <tr>\n",
       "      <th class=\"blank level0\" >&nbsp;</th>\n",
       "      <th id=\"T_23d5a_level0_col0\" class=\"col_heading level0 col0\" >imdb-sakila</th>\n",
       "      <th id=\"T_23d5a_level0_col1\" class=\"col_heading level0 col1\" >cms-omop</th>\n",
       "      <th id=\"T_23d5a_level0_col2\" class=\"col_heading level0 col2\" >cprd_aurum-omop</th>\n",
       "      <th id=\"T_23d5a_level0_col3\" class=\"col_heading level0 col3\" >cprd_gold-omop</th>\n",
       "      <th id=\"T_23d5a_level0_col4\" class=\"col_heading level0 col4\" >mimic_iii-omop</th>\n",
       "    </tr>\n",
       "  </thead>\n",
       "  <tbody>\n",
       "    <tr>\n",
       "      <th id=\"T_23d5a_level0_row0\" class=\"row_heading level0 row0\" >original</th>\n",
       "      <td id=\"T_23d5a_row0_col0\" class=\"data row0 col0\" >0.920</td>\n",
       "      <td id=\"T_23d5a_row0_col1\" class=\"data row0 col1\" >0.490</td>\n",
       "      <td id=\"T_23d5a_row0_col2\" class=\"data row0 col2\" >0.470</td>\n",
       "      <td id=\"T_23d5a_row0_col3\" class=\"data row0 col3\" >0.340</td>\n",
       "      <td id=\"T_23d5a_row0_col4\" class=\"data row0 col4\" >0.590</td>\n",
       "    </tr>\n",
       "    <tr>\n",
       "      <th id=\"T_23d5a_level0_row1\" class=\"row_heading level0 row1\" >gpt-4o</th>\n",
       "      <td id=\"T_23d5a_row1_col0\" class=\"data row1 col0\" >0.820</td>\n",
       "      <td id=\"T_23d5a_row1_col1\" class=\"data row1 col1\" >0.480</td>\n",
       "      <td id=\"T_23d5a_row1_col2\" class=\"data row1 col2\" >0.430</td>\n",
       "      <td id=\"T_23d5a_row1_col3\" class=\"data row1 col3\" >0.320</td>\n",
       "      <td id=\"T_23d5a_row1_col4\" class=\"data row1 col4\" >0.600</td>\n",
       "    </tr>\n",
       "  </tbody>\n",
       "</table>\n"
      ],
      "text/plain": [
       "<pandas.io.formats.style.Styler at 0x124b727d0>"
      ]
     },
     "execution_count": 9,
     "metadata": {},
     "output_type": "execute_result"
    }
   ],
   "source": [
    "main_result = effect_of_rewrite(table_selection_strategy='llm', table_selection_llm='gpt-4o', column_matching_strategy='llm', column_matching_llm='gpt-4o')\n",
    "display(Markdown(\"#### Effect of rewrite (LLM-gpt-4o-table-selection, LLM-4o-column-matching)\"))\n",
    "main_result"
   ]
  },
  {
   "cell_type": "code",
   "execution_count": 10,
   "id": "31912baf-bc32-4a50-b68b-5639f049272d",
   "metadata": {},
   "outputs": [
    {
     "data": {
      "text/markdown": [
       "#### Effect of rewrite (LLM-gpt-3.5-table-selection, LLM-3.5-column-matching)"
      ],
      "text/plain": [
       "<IPython.core.display.Markdown object>"
      ]
     },
     "metadata": {},
     "output_type": "display_data"
    },
    {
     "data": {
      "text/html": [
       "<style type=\"text/css\">\n",
       "#T_231fe_row0_col0, #T_231fe_row0_col1, #T_231fe_row0_col3, #T_231fe_row1_col2, #T_231fe_row1_col4 {\n",
       "  text-decoration: underline;\n",
       "}\n",
       "#T_231fe_row0_col2, #T_231fe_row0_col4, #T_231fe_row1_col0, #T_231fe_row1_col1, #T_231fe_row1_col3 {\n",
       "  font-weight: bold;\n",
       "}\n",
       "</style>\n",
       "<table id=\"T_231fe\">\n",
       "  <thead>\n",
       "    <tr>\n",
       "      <th class=\"blank level0\" >&nbsp;</th>\n",
       "      <th id=\"T_231fe_level0_col0\" class=\"col_heading level0 col0\" >imdb-sakila</th>\n",
       "      <th id=\"T_231fe_level0_col1\" class=\"col_heading level0 col1\" >cms-omop</th>\n",
       "      <th id=\"T_231fe_level0_col2\" class=\"col_heading level0 col2\" >cprd_aurum-omop</th>\n",
       "      <th id=\"T_231fe_level0_col3\" class=\"col_heading level0 col3\" >cprd_gold-omop</th>\n",
       "      <th id=\"T_231fe_level0_col4\" class=\"col_heading level0 col4\" >mimic_iii-omop</th>\n",
       "    </tr>\n",
       "  </thead>\n",
       "  <tbody>\n",
       "    <tr>\n",
       "      <th id=\"T_231fe_level0_row0\" class=\"row_heading level0 row0\" >original</th>\n",
       "      <td id=\"T_231fe_row0_col0\" class=\"data row0 col0\" >0.710</td>\n",
       "      <td id=\"T_231fe_row0_col1\" class=\"data row0 col1\" >0.260</td>\n",
       "      <td id=\"T_231fe_row0_col2\" class=\"data row0 col2\" >0.540</td>\n",
       "      <td id=\"T_231fe_row0_col3\" class=\"data row0 col3\" >0.200</td>\n",
       "      <td id=\"T_231fe_row0_col4\" class=\"data row0 col4\" >0.430</td>\n",
       "    </tr>\n",
       "    <tr>\n",
       "      <th id=\"T_231fe_level0_row1\" class=\"row_heading level0 row1\" >gpt-3.5-turbo</th>\n",
       "      <td id=\"T_231fe_row1_col0\" class=\"data row1 col0\" >0.720</td>\n",
       "      <td id=\"T_231fe_row1_col1\" class=\"data row1 col1\" >0.370</td>\n",
       "      <td id=\"T_231fe_row1_col2\" class=\"data row1 col2\" >0.500</td>\n",
       "      <td id=\"T_231fe_row1_col3\" class=\"data row1 col3\" >0.330</td>\n",
       "      <td id=\"T_231fe_row1_col4\" class=\"data row1 col4\" >0.420</td>\n",
       "    </tr>\n",
       "  </tbody>\n",
       "</table>\n"
      ],
      "text/plain": [
       "<pandas.io.formats.style.Styler at 0x117911e10>"
      ]
     },
     "execution_count": 10,
     "metadata": {},
     "output_type": "execute_result"
    }
   ],
   "source": [
    "main_result = effect_of_rewrite(table_selection_strategy='llm', table_selection_llm='gpt-3.5-turbo', column_matching_strategy='llm', column_matching_llm='gpt-3.5-turbo')\n",
    "display(Markdown(\"#### Effect of rewrite (LLM-gpt-3.5-table-selection, LLM-3.5-column-matching)\"))\n",
    "main_result"
   ]
  },
  {
   "cell_type": "code",
   "execution_count": 11,
   "id": "eb7e3e91-7068-426d-941b-3eca5b3b56de",
   "metadata": {},
   "outputs": [
    {
     "data": {
      "text/markdown": [
       "#### Effect of rewrite (LLM-llama-70b-table-selection, LLM-llama-70b-column-matching)"
      ],
      "text/plain": [
       "<IPython.core.display.Markdown object>"
      ]
     },
     "metadata": {},
     "output_type": "display_data"
    },
    {
     "data": {
      "text/html": [
       "<style type=\"text/css\">\n",
       "#T_93191_row0_col0, #T_93191_row0_col2, #T_93191_row0_col3, #T_93191_row0_col4, #T_93191_row1_col1 {\n",
       "  text-decoration: underline;\n",
       "}\n",
       "#T_93191_row0_col1, #T_93191_row1_col0, #T_93191_row1_col2, #T_93191_row1_col3, #T_93191_row1_col4 {\n",
       "  font-weight: bold;\n",
       "}\n",
       "</style>\n",
       "<table id=\"T_93191\">\n",
       "  <thead>\n",
       "    <tr>\n",
       "      <th class=\"blank level0\" >&nbsp;</th>\n",
       "      <th id=\"T_93191_level0_col0\" class=\"col_heading level0 col0\" >imdb-sakila</th>\n",
       "      <th id=\"T_93191_level0_col1\" class=\"col_heading level0 col1\" >cms-omop</th>\n",
       "      <th id=\"T_93191_level0_col2\" class=\"col_heading level0 col2\" >cprd_aurum-omop</th>\n",
       "      <th id=\"T_93191_level0_col3\" class=\"col_heading level0 col3\" >cprd_gold-omop</th>\n",
       "      <th id=\"T_93191_level0_col4\" class=\"col_heading level0 col4\" >mimic_iii-omop</th>\n",
       "    </tr>\n",
       "  </thead>\n",
       "  <tbody>\n",
       "    <tr>\n",
       "      <th id=\"T_93191_level0_row0\" class=\"row_heading level0 row0\" >original</th>\n",
       "      <td id=\"T_93191_row0_col0\" class=\"data row0 col0\" >0.810</td>\n",
       "      <td id=\"T_93191_row0_col1\" class=\"data row0 col1\" >0.600</td>\n",
       "      <td id=\"T_93191_row0_col2\" class=\"data row0 col2\" >0.440</td>\n",
       "      <td id=\"T_93191_row0_col3\" class=\"data row0 col3\" >0.300</td>\n",
       "      <td id=\"T_93191_row0_col4\" class=\"data row0 col4\" >0.470</td>\n",
       "    </tr>\n",
       "    <tr>\n",
       "      <th id=\"T_93191_level0_row1\" class=\"row_heading level0 row1\" >deepinfra/meta-llama/Meta-Llama-3.1-70B-Instruct</th>\n",
       "      <td id=\"T_93191_row1_col0\" class=\"data row1 col0\" >0.820</td>\n",
       "      <td id=\"T_93191_row1_col1\" class=\"data row1 col1\" >0.530</td>\n",
       "      <td id=\"T_93191_row1_col2\" class=\"data row1 col2\" >0.480</td>\n",
       "      <td id=\"T_93191_row1_col3\" class=\"data row1 col3\" >0.430</td>\n",
       "      <td id=\"T_93191_row1_col4\" class=\"data row1 col4\" >0.530</td>\n",
       "    </tr>\n",
       "  </tbody>\n",
       "</table>\n"
      ],
      "text/plain": [
       "<pandas.io.formats.style.Styler at 0x117bca990>"
      ]
     },
     "execution_count": 11,
     "metadata": {},
     "output_type": "execute_result"
    }
   ],
   "source": [
    "main_result = effect_of_rewrite(table_selection_strategy='llm', table_selection_llm='deepinfra/meta-llama/Meta-Llama-3.1-70B-Instruct', column_matching_strategy='llm', column_matching_llm='deepinfra/meta-llama/Meta-Llama-3.1-70B-Instruct')\n",
    "display(Markdown(\"#### Effect of rewrite (LLM-llama-70b-table-selection, LLM-llama-70b-column-matching)\"))\n",
    "main_result"
   ]
  },
  {
   "cell_type": "code",
   "execution_count": 12,
   "id": "226960f0-9db1-40ff-a705-0e1b3dc19654",
   "metadata": {},
   "outputs": [
    {
     "data": {
      "text/markdown": [
       "#### Effect of rewrite (LLM-llama-405b-table-selection, LLM-llama-405b-column-matching)"
      ],
      "text/plain": [
       "<IPython.core.display.Markdown object>"
      ]
     },
     "metadata": {},
     "output_type": "display_data"
    },
    {
     "data": {
      "text/html": [
       "<style type=\"text/css\">\n",
       "#T_9a681_row0_col0, #T_9a681_row0_col1, #T_9a681_row1_col0, #T_9a681_row1_col2, #T_9a681_row1_col3, #T_9a681_row1_col4 {\n",
       "  font-weight: bold;\n",
       "}\n",
       "#T_9a681_row0_col2, #T_9a681_row0_col3, #T_9a681_row0_col4, #T_9a681_row1_col1 {\n",
       "  text-decoration: underline;\n",
       "}\n",
       "</style>\n",
       "<table id=\"T_9a681\">\n",
       "  <thead>\n",
       "    <tr>\n",
       "      <th class=\"blank level0\" >&nbsp;</th>\n",
       "      <th id=\"T_9a681_level0_col0\" class=\"col_heading level0 col0\" >imdb-sakila</th>\n",
       "      <th id=\"T_9a681_level0_col1\" class=\"col_heading level0 col1\" >cms-omop</th>\n",
       "      <th id=\"T_9a681_level0_col2\" class=\"col_heading level0 col2\" >cprd_aurum-omop</th>\n",
       "      <th id=\"T_9a681_level0_col3\" class=\"col_heading level0 col3\" >cprd_gold-omop</th>\n",
       "      <th id=\"T_9a681_level0_col4\" class=\"col_heading level0 col4\" >mimic_iii-omop</th>\n",
       "    </tr>\n",
       "  </thead>\n",
       "  <tbody>\n",
       "    <tr>\n",
       "      <th id=\"T_9a681_level0_row0\" class=\"row_heading level0 row0\" >original</th>\n",
       "      <td id=\"T_9a681_row0_col0\" class=\"data row0 col0\" >0.680</td>\n",
       "      <td id=\"T_9a681_row0_col1\" class=\"data row0 col1\" >0.600</td>\n",
       "      <td id=\"T_9a681_row0_col2\" class=\"data row0 col2\" >0.370</td>\n",
       "      <td id=\"T_9a681_row0_col3\" class=\"data row0 col3\" >0.340</td>\n",
       "      <td id=\"T_9a681_row0_col4\" class=\"data row0 col4\" >0.500</td>\n",
       "    </tr>\n",
       "    <tr>\n",
       "      <th id=\"T_9a681_level0_row1\" class=\"row_heading level0 row1\" >deepinfra/meta-llama/Meta-Llama-3.1-405B-Instruct</th>\n",
       "      <td id=\"T_9a681_row1_col0\" class=\"data row1 col0\" >0.680</td>\n",
       "      <td id=\"T_9a681_row1_col1\" class=\"data row1 col1\" >0.540</td>\n",
       "      <td id=\"T_9a681_row1_col2\" class=\"data row1 col2\" >0.540</td>\n",
       "      <td id=\"T_9a681_row1_col3\" class=\"data row1 col3\" >0.370</td>\n",
       "      <td id=\"T_9a681_row1_col4\" class=\"data row1 col4\" >0.630</td>\n",
       "    </tr>\n",
       "  </tbody>\n",
       "</table>\n"
      ],
      "text/plain": [
       "<pandas.io.formats.style.Styler at 0x124b72cd0>"
      ]
     },
     "execution_count": 12,
     "metadata": {},
     "output_type": "execute_result"
    }
   ],
   "source": [
    "main_result = effect_of_rewrite(table_selection_strategy='llm', table_selection_llm='deepinfra/meta-llama/Meta-Llama-3.1-405B-Instruct', column_matching_strategy='llm', column_matching_llm='deepinfra/meta-llama/Meta-Llama-3.1-405B-Instruct')\n",
    "display(Markdown(\"#### Effect of rewrite (LLM-llama-405b-table-selection, LLM-llama-405b-column-matching)\"))\n",
    "main_result"
   ]
  },
  {
   "cell_type": "code",
   "execution_count": 13,
   "id": "f4a81eb8-e54c-496b-9ef7-ec4fb1fdb25e",
   "metadata": {},
   "outputs": [
    {
     "data": {
      "text/markdown": [
       "#### Effect of rewrite (LLM-gpt-4o-mini-table-selection, LLM-gpt-4o-mini-column-matching)"
      ],
      "text/plain": [
       "<IPython.core.display.Markdown object>"
      ]
     },
     "metadata": {},
     "output_type": "display_data"
    },
    {
     "data": {
      "text/html": [
       "<style type=\"text/css\">\n",
       "#T_dc671_row0_col0, #T_dc671_row1_col1, #T_dc671_row1_col2, #T_dc671_row1_col3, #T_dc671_row1_col4 {\n",
       "  text-decoration: underline;\n",
       "}\n",
       "#T_dc671_row0_col1, #T_dc671_row0_col2, #T_dc671_row0_col3, #T_dc671_row0_col4, #T_dc671_row1_col0 {\n",
       "  font-weight: bold;\n",
       "}\n",
       "</style>\n",
       "<table id=\"T_dc671\">\n",
       "  <thead>\n",
       "    <tr>\n",
       "      <th class=\"blank level0\" >&nbsp;</th>\n",
       "      <th id=\"T_dc671_level0_col0\" class=\"col_heading level0 col0\" >imdb-sakila</th>\n",
       "      <th id=\"T_dc671_level0_col1\" class=\"col_heading level0 col1\" >cms-omop</th>\n",
       "      <th id=\"T_dc671_level0_col2\" class=\"col_heading level0 col2\" >cprd_aurum-omop</th>\n",
       "      <th id=\"T_dc671_level0_col3\" class=\"col_heading level0 col3\" >cprd_gold-omop</th>\n",
       "      <th id=\"T_dc671_level0_col4\" class=\"col_heading level0 col4\" >mimic_iii-omop</th>\n",
       "    </tr>\n",
       "  </thead>\n",
       "  <tbody>\n",
       "    <tr>\n",
       "      <th id=\"T_dc671_level0_row0\" class=\"row_heading level0 row0\" >original</th>\n",
       "      <td id=\"T_dc671_row0_col0\" class=\"data row0 col0\" >0.790</td>\n",
       "      <td id=\"T_dc671_row0_col1\" class=\"data row0 col1\" >0.550</td>\n",
       "      <td id=\"T_dc671_row0_col2\" class=\"data row0 col2\" >0.430</td>\n",
       "      <td id=\"T_dc671_row0_col3\" class=\"data row0 col3\" >0.370</td>\n",
       "      <td id=\"T_dc671_row0_col4\" class=\"data row0 col4\" >0.600</td>\n",
       "    </tr>\n",
       "    <tr>\n",
       "      <th id=\"T_dc671_level0_row1\" class=\"row_heading level0 row1\" >gpt-4o-mini</th>\n",
       "      <td id=\"T_dc671_row1_col0\" class=\"data row1 col0\" >0.810</td>\n",
       "      <td id=\"T_dc671_row1_col1\" class=\"data row1 col1\" >0.370</td>\n",
       "      <td id=\"T_dc671_row1_col2\" class=\"data row1 col2\" >0.400</td>\n",
       "      <td id=\"T_dc671_row1_col3\" class=\"data row1 col3\" >0.350</td>\n",
       "      <td id=\"T_dc671_row1_col4\" class=\"data row1 col4\" >0.510</td>\n",
       "    </tr>\n",
       "  </tbody>\n",
       "</table>\n"
      ],
      "text/plain": [
       "<pandas.io.formats.style.Styler at 0x1243fa990>"
      ]
     },
     "execution_count": 13,
     "metadata": {},
     "output_type": "execute_result"
    }
   ],
   "source": [
    "main_result = effect_of_rewrite(table_selection_strategy='llm', table_selection_llm='gpt-4o-mini', column_matching_strategy='llm', column_matching_llm='gpt-4o-mini')\n",
    "display(Markdown(\"#### Effect of rewrite (LLM-gpt-4o-mini-table-selection, LLM-gpt-4o-mini-column-matching)\"))\n",
    "main_result"
   ]
  },
  {
   "cell_type": "code",
   "execution_count": 14,
   "id": "8d2bfbd4-eedc-40b8-a3e2-7d2f2ff2d07e",
   "metadata": {},
   "outputs": [
    {
     "data": {
      "text/markdown": [
       "#### Effect of rewrite(gpt-3.5-turbo) (None-table-selection, coma"
      ],
      "text/plain": [
       "<IPython.core.display.Markdown object>"
      ]
     },
     "metadata": {},
     "output_type": "display_data"
    },
    {
     "data": {
      "text/html": [
       "<style type=\"text/css\">\n",
       "#T_9b33e_row0_col0, #T_9b33e_row0_col4, #T_9b33e_row1_col1, #T_9b33e_row1_col2, #T_9b33e_row1_col3, #T_9b33e_row1_col4 {\n",
       "  font-weight: bold;\n",
       "}\n",
       "#T_9b33e_row0_col1, #T_9b33e_row0_col2, #T_9b33e_row0_col3, #T_9b33e_row1_col0 {\n",
       "  text-decoration: underline;\n",
       "}\n",
       "</style>\n",
       "<table id=\"T_9b33e\">\n",
       "  <thead>\n",
       "    <tr>\n",
       "      <th class=\"blank level0\" >&nbsp;</th>\n",
       "      <th id=\"T_9b33e_level0_col0\" class=\"col_heading level0 col0\" >imdb-sakila</th>\n",
       "      <th id=\"T_9b33e_level0_col1\" class=\"col_heading level0 col1\" >cms-omop</th>\n",
       "      <th id=\"T_9b33e_level0_col2\" class=\"col_heading level0 col2\" >cprd_aurum-omop</th>\n",
       "      <th id=\"T_9b33e_level0_col3\" class=\"col_heading level0 col3\" >cprd_gold-omop</th>\n",
       "      <th id=\"T_9b33e_level0_col4\" class=\"col_heading level0 col4\" >mimic_iii-omop</th>\n",
       "    </tr>\n",
       "  </thead>\n",
       "  <tbody>\n",
       "    <tr>\n",
       "      <th id=\"T_9b33e_level0_row0\" class=\"row_heading level0 row0\" >original</th>\n",
       "      <td id=\"T_9b33e_row0_col0\" class=\"data row0 col0\" >0.150</td>\n",
       "      <td id=\"T_9b33e_row0_col1\" class=\"data row0 col1\" >0.040</td>\n",
       "      <td id=\"T_9b33e_row0_col2\" class=\"data row0 col2\" >0.000</td>\n",
       "      <td id=\"T_9b33e_row0_col3\" class=\"data row0 col3\" >0.020</td>\n",
       "      <td id=\"T_9b33e_row0_col4\" class=\"data row0 col4\" >0.040</td>\n",
       "    </tr>\n",
       "    <tr>\n",
       "      <th id=\"T_9b33e_level0_row1\" class=\"row_heading level0 row1\" >gpt-3.5-turbo</th>\n",
       "      <td id=\"T_9b33e_row1_col0\" class=\"data row1 col0\" >0.090</td>\n",
       "      <td id=\"T_9b33e_row1_col1\" class=\"data row1 col1\" >0.100</td>\n",
       "      <td id=\"T_9b33e_row1_col2\" class=\"data row1 col2\" >0.090</td>\n",
       "      <td id=\"T_9b33e_row1_col3\" class=\"data row1 col3\" >0.300</td>\n",
       "      <td id=\"T_9b33e_row1_col4\" class=\"data row1 col4\" >0.040</td>\n",
       "    </tr>\n",
       "  </tbody>\n",
       "</table>\n"
      ],
      "text/plain": [
       "<pandas.io.formats.style.Styler at 0x124b4e9d0>"
      ]
     },
     "execution_count": 14,
     "metadata": {},
     "output_type": "execute_result"
    }
   ],
   "source": [
    "main_result = effect_of_rewrite(table_selection_strategy='None', table_selection_llm='gpt-3.5-turbo', column_matching_strategy='coma', column_matching_llm='None')\n",
    "display(Markdown(\"#### Effect of rewrite(gpt-3.5-turbo) (None-table-selection, coma\"))\n",
    "main_result"
   ]
  },
  {
   "cell_type": "code",
   "execution_count": 15,
   "id": "45b81832-b3bb-4c8d-86da-433e80903cef",
   "metadata": {},
   "outputs": [
    {
     "data": {
      "text/markdown": [
       "#### Effect of rewrite(gpt-3.5-turbo) (None-table-selection, similarity_flooding)"
      ],
      "text/plain": [
       "<IPython.core.display.Markdown object>"
      ]
     },
     "metadata": {},
     "output_type": "display_data"
    },
    {
     "data": {
      "text/html": [
       "<style type=\"text/css\">\n",
       "#T_1f70b_row0_col0, #T_1f70b_row0_col1, #T_1f70b_row0_col2, #T_1f70b_row0_col3 {\n",
       "  text-decoration: underline;\n",
       "}\n",
       "#T_1f70b_row0_col4, #T_1f70b_row1_col0, #T_1f70b_row1_col1, #T_1f70b_row1_col2, #T_1f70b_row1_col3, #T_1f70b_row1_col4 {\n",
       "  font-weight: bold;\n",
       "}\n",
       "</style>\n",
       "<table id=\"T_1f70b\">\n",
       "  <thead>\n",
       "    <tr>\n",
       "      <th class=\"blank level0\" >&nbsp;</th>\n",
       "      <th id=\"T_1f70b_level0_col0\" class=\"col_heading level0 col0\" >imdb-sakila</th>\n",
       "      <th id=\"T_1f70b_level0_col1\" class=\"col_heading level0 col1\" >cms-omop</th>\n",
       "      <th id=\"T_1f70b_level0_col2\" class=\"col_heading level0 col2\" >cprd_aurum-omop</th>\n",
       "      <th id=\"T_1f70b_level0_col3\" class=\"col_heading level0 col3\" >cprd_gold-omop</th>\n",
       "      <th id=\"T_1f70b_level0_col4\" class=\"col_heading level0 col4\" >mimic_iii-omop</th>\n",
       "    </tr>\n",
       "  </thead>\n",
       "  <tbody>\n",
       "    <tr>\n",
       "      <th id=\"T_1f70b_level0_row0\" class=\"row_heading level0 row0\" >original</th>\n",
       "      <td id=\"T_1f70b_row0_col0\" class=\"data row0 col0\" >0.200</td>\n",
       "      <td id=\"T_1f70b_row0_col1\" class=\"data row0 col1\" >0.040</td>\n",
       "      <td id=\"T_1f70b_row0_col2\" class=\"data row0 col2\" >0.100</td>\n",
       "      <td id=\"T_1f70b_row0_col3\" class=\"data row0 col3\" >0.020</td>\n",
       "      <td id=\"T_1f70b_row0_col4\" class=\"data row0 col4\" >0.070</td>\n",
       "    </tr>\n",
       "    <tr>\n",
       "      <th id=\"T_1f70b_level0_row1\" class=\"row_heading level0 row1\" >gpt-3.5-turbo</th>\n",
       "      <td id=\"T_1f70b_row1_col0\" class=\"data row1 col0\" >0.330</td>\n",
       "      <td id=\"T_1f70b_row1_col1\" class=\"data row1 col1\" >0.070</td>\n",
       "      <td id=\"T_1f70b_row1_col2\" class=\"data row1 col2\" >0.120</td>\n",
       "      <td id=\"T_1f70b_row1_col3\" class=\"data row1 col3\" >0.190</td>\n",
       "      <td id=\"T_1f70b_row1_col4\" class=\"data row1 col4\" >0.070</td>\n",
       "    </tr>\n",
       "  </tbody>\n",
       "</table>\n"
      ],
      "text/plain": [
       "<pandas.io.formats.style.Styler at 0x124b9b110>"
      ]
     },
     "execution_count": 15,
     "metadata": {},
     "output_type": "execute_result"
    }
   ],
   "source": [
    "main_result = effect_of_rewrite(table_selection_strategy='None', table_selection_llm='gpt-3.5-turbo', column_matching_strategy='similarity_flooding', column_matching_llm='None')\n",
    "display(Markdown(\"#### Effect of rewrite(gpt-3.5-turbo) (None-table-selection, similarity_flooding)\"))\n",
    "main_result"
   ]
  },
  {
   "cell_type": "code",
   "execution_count": 16,
   "id": "8b23ed07-fa28-4804-b780-6adcef3a7fff",
   "metadata": {},
   "outputs": [
    {
     "data": {
      "text/markdown": [
       "#### Effect of rewrite (LLM-gpt-3.5-table-selection, LLM-3.5-column-matching)"
      ],
      "text/plain": [
       "<IPython.core.display.Markdown object>"
      ]
     },
     "metadata": {},
     "output_type": "display_data"
    },
    {
     "data": {
      "text/html": [
       "<style type=\"text/css\">\n",
       "#T_d503c_row0_col0, #T_d503c_row0_col1, #T_d503c_row0_col3, #T_d503c_row1_col2, #T_d503c_row1_col4 {\n",
       "  text-decoration: underline;\n",
       "}\n",
       "#T_d503c_row0_col2, #T_d503c_row0_col4, #T_d503c_row1_col0, #T_d503c_row1_col1, #T_d503c_row1_col3 {\n",
       "  font-weight: bold;\n",
       "}\n",
       "</style>\n",
       "<table id=\"T_d503c\">\n",
       "  <thead>\n",
       "    <tr>\n",
       "      <th class=\"blank level0\" >&nbsp;</th>\n",
       "      <th id=\"T_d503c_level0_col0\" class=\"col_heading level0 col0\" >imdb-sakila</th>\n",
       "      <th id=\"T_d503c_level0_col1\" class=\"col_heading level0 col1\" >cms-omop</th>\n",
       "      <th id=\"T_d503c_level0_col2\" class=\"col_heading level0 col2\" >cprd_aurum-omop</th>\n",
       "      <th id=\"T_d503c_level0_col3\" class=\"col_heading level0 col3\" >cprd_gold-omop</th>\n",
       "      <th id=\"T_d503c_level0_col4\" class=\"col_heading level0 col4\" >mimic_iii-omop</th>\n",
       "    </tr>\n",
       "  </thead>\n",
       "  <tbody>\n",
       "    <tr>\n",
       "      <th id=\"T_d503c_level0_row0\" class=\"row_heading level0 row0\" >original</th>\n",
       "      <td id=\"T_d503c_row0_col0\" class=\"data row0 col0\" >0.710</td>\n",
       "      <td id=\"T_d503c_row0_col1\" class=\"data row0 col1\" >0.260</td>\n",
       "      <td id=\"T_d503c_row0_col2\" class=\"data row0 col2\" >0.540</td>\n",
       "      <td id=\"T_d503c_row0_col3\" class=\"data row0 col3\" >0.200</td>\n",
       "      <td id=\"T_d503c_row0_col4\" class=\"data row0 col4\" >0.430</td>\n",
       "    </tr>\n",
       "    <tr>\n",
       "      <th id=\"T_d503c_level0_row1\" class=\"row_heading level0 row1\" >gpt-3.5-turbo</th>\n",
       "      <td id=\"T_d503c_row1_col0\" class=\"data row1 col0\" >0.720</td>\n",
       "      <td id=\"T_d503c_row1_col1\" class=\"data row1 col1\" >0.370</td>\n",
       "      <td id=\"T_d503c_row1_col2\" class=\"data row1 col2\" >0.500</td>\n",
       "      <td id=\"T_d503c_row1_col3\" class=\"data row1 col3\" >0.330</td>\n",
       "      <td id=\"T_d503c_row1_col4\" class=\"data row1 col4\" >0.420</td>\n",
       "    </tr>\n",
       "  </tbody>\n",
       "</table>\n"
      ],
      "text/plain": [
       "<pandas.io.formats.style.Styler at 0x124b840d0>"
      ]
     },
     "execution_count": 16,
     "metadata": {},
     "output_type": "execute_result"
    }
   ],
   "source": [
    "main_result = effect_of_rewrite(table_selection_strategy='llm', table_selection_llm='gpt-3.5-turbo', column_matching_strategy='llm', column_matching_llm='gpt-3.5-turbo')\n",
    "display(Markdown(\"#### Effect of rewrite (LLM-gpt-3.5-table-selection, LLM-3.5-column-matching)\"))\n",
    "main_result"
   ]
  },
  {
   "cell_type": "code",
   "execution_count": 17,
   "id": "128848fc-7fe0-4488-a912-71bbc17fddeb",
   "metadata": {},
   "outputs": [
    {
     "data": {
      "text/markdown": [
       "#### Effect of content length (LLM-gpt-3.5-table-selection, LLM-3.5-column-matching)"
      ],
      "text/plain": [
       "<IPython.core.display.Markdown object>"
      ]
     },
     "metadata": {},
     "output_type": "display_data"
    },
    {
     "data": {
      "text/html": [
       "<style type=\"text/css\">\n",
       "#T_f6afa_row0_col0, #T_f6afa_row0_col1, #T_f6afa_row0_col3, #T_f6afa_row0_col4, #T_f6afa_row1_col2 {\n",
       "  text-decoration: underline;\n",
       "}\n",
       "#T_f6afa_row0_col2, #T_f6afa_row1_col0, #T_f6afa_row1_col1, #T_f6afa_row1_col3, #T_f6afa_row1_col4 {\n",
       "  font-weight: bold;\n",
       "}\n",
       "</style>\n",
       "<table id=\"T_f6afa\">\n",
       "  <thead>\n",
       "    <tr>\n",
       "      <th class=\"blank level0\" >&nbsp;</th>\n",
       "      <th id=\"T_f6afa_level0_col0\" class=\"col_heading level0 col0\" >imdb-sakila</th>\n",
       "      <th id=\"T_f6afa_level0_col1\" class=\"col_heading level0 col1\" >cms-omop</th>\n",
       "      <th id=\"T_f6afa_level0_col2\" class=\"col_heading level0 col2\" >cprd_aurum-omop</th>\n",
       "      <th id=\"T_f6afa_level0_col3\" class=\"col_heading level0 col3\" >cprd_gold-omop</th>\n",
       "      <th id=\"T_f6afa_level0_col4\" class=\"col_heading level0 col4\" >mimic_iii-omop</th>\n",
       "    </tr>\n",
       "  </thead>\n",
       "  <tbody>\n",
       "    <tr>\n",
       "      <th id=\"T_f6afa_level0_row0\" class=\"row_heading level0 row0\" >llm</th>\n",
       "      <td id=\"T_f6afa_row0_col0\" class=\"data row0 col0\" >0.710</td>\n",
       "      <td id=\"T_f6afa_row0_col1\" class=\"data row0 col1\" >0.260</td>\n",
       "      <td id=\"T_f6afa_row0_col2\" class=\"data row0 col2\" >0.540</td>\n",
       "      <td id=\"T_f6afa_row0_col3\" class=\"data row0 col3\" >0.200</td>\n",
       "      <td id=\"T_f6afa_row0_col4\" class=\"data row0 col4\" >0.430</td>\n",
       "    </tr>\n",
       "    <tr>\n",
       "      <th id=\"T_f6afa_level0_row1\" class=\"row_heading level0 row1\" >llm-one_table_to_one_table</th>\n",
       "      <td id=\"T_f6afa_row1_col0\" class=\"data row1 col0\" >0.730</td>\n",
       "      <td id=\"T_f6afa_row1_col1\" class=\"data row1 col1\" >0.590</td>\n",
       "      <td id=\"T_f6afa_row1_col2\" class=\"data row1 col2\" >0.390</td>\n",
       "      <td id=\"T_f6afa_row1_col3\" class=\"data row1 col3\" >0.310</td>\n",
       "      <td id=\"T_f6afa_row1_col4\" class=\"data row1 col4\" >0.460</td>\n",
       "    </tr>\n",
       "  </tbody>\n",
       "</table>\n"
      ],
      "text/plain": [
       "<pandas.io.formats.style.Styler at 0x124b9bc10>"
      ]
     },
     "execution_count": 17,
     "metadata": {},
     "output_type": "execute_result"
    }
   ],
   "source": [
    "main_result = effect_of_context_length(llm='gpt-3.5-turbo')\n",
    "display(Markdown(\"#### Effect of content length (LLM-gpt-3.5-table-selection, LLM-3.5-column-matching)\"))\n",
    "main_result"
   ]
  },
  {
   "cell_type": "code",
   "execution_count": 18,
   "id": "81df3af2-38a7-4c79-bac0-3008e7e0d66e",
   "metadata": {},
   "outputs": [
    {
     "data": {
      "text/markdown": [
       "#### Effect of content length (LLM-gpt-4o-table-selection, LLM-gpt-4o-column-matching)"
      ],
      "text/plain": [
       "<IPython.core.display.Markdown object>"
      ]
     },
     "metadata": {},
     "output_type": "display_data"
    },
    {
     "data": {
      "text/html": [
       "<style type=\"text/css\">\n",
       "#T_74c9c_row0_col0, #T_74c9c_row0_col1, #T_74c9c_row0_col2, #T_74c9c_row0_col3, #T_74c9c_row0_col4, #T_74c9c_row1_col1 {\n",
       "  font-weight: bold;\n",
       "}\n",
       "#T_74c9c_row1_col0, #T_74c9c_row1_col2, #T_74c9c_row1_col3, #T_74c9c_row1_col4 {\n",
       "  text-decoration: underline;\n",
       "}\n",
       "</style>\n",
       "<table id=\"T_74c9c\">\n",
       "  <thead>\n",
       "    <tr>\n",
       "      <th class=\"blank level0\" >&nbsp;</th>\n",
       "      <th id=\"T_74c9c_level0_col0\" class=\"col_heading level0 col0\" >imdb-sakila</th>\n",
       "      <th id=\"T_74c9c_level0_col1\" class=\"col_heading level0 col1\" >cms-omop</th>\n",
       "      <th id=\"T_74c9c_level0_col2\" class=\"col_heading level0 col2\" >cprd_aurum-omop</th>\n",
       "      <th id=\"T_74c9c_level0_col3\" class=\"col_heading level0 col3\" >cprd_gold-omop</th>\n",
       "      <th id=\"T_74c9c_level0_col4\" class=\"col_heading level0 col4\" >mimic_iii-omop</th>\n",
       "    </tr>\n",
       "  </thead>\n",
       "  <tbody>\n",
       "    <tr>\n",
       "      <th id=\"T_74c9c_level0_row0\" class=\"row_heading level0 row0\" >llm</th>\n",
       "      <td id=\"T_74c9c_row0_col0\" class=\"data row0 col0\" >0.920</td>\n",
       "      <td id=\"T_74c9c_row0_col1\" class=\"data row0 col1\" >0.490</td>\n",
       "      <td id=\"T_74c9c_row0_col2\" class=\"data row0 col2\" >0.470</td>\n",
       "      <td id=\"T_74c9c_row0_col3\" class=\"data row0 col3\" >0.340</td>\n",
       "      <td id=\"T_74c9c_row0_col4\" class=\"data row0 col4\" >0.590</td>\n",
       "    </tr>\n",
       "    <tr>\n",
       "      <th id=\"T_74c9c_level0_row1\" class=\"row_heading level0 row1\" >llm-one_table_to_one_table</th>\n",
       "      <td id=\"T_74c9c_row1_col0\" class=\"data row1 col0\" >0.820</td>\n",
       "      <td id=\"T_74c9c_row1_col1\" class=\"data row1 col1\" >0.490</td>\n",
       "      <td id=\"T_74c9c_row1_col2\" class=\"data row1 col2\" >0.350</td>\n",
       "      <td id=\"T_74c9c_row1_col3\" class=\"data row1 col3\" >0.250</td>\n",
       "      <td id=\"T_74c9c_row1_col4\" class=\"data row1 col4\" >0.460</td>\n",
       "    </tr>\n",
       "  </tbody>\n",
       "</table>\n"
      ],
      "text/plain": [
       "<pandas.io.formats.style.Styler at 0x124b0bb90>"
      ]
     },
     "execution_count": 18,
     "metadata": {},
     "output_type": "execute_result"
    }
   ],
   "source": [
    "main_result = effect_of_context_length(llm='gpt-4o')\n",
    "display(Markdown(\"#### Effect of content length (LLM-gpt-4o-table-selection, LLM-gpt-4o-column-matching)\"))\n",
    "main_result"
   ]
  },
  {
   "cell_type": "code",
   "execution_count": 19,
   "id": "c31fed13-a363-4d9b-9c96-bfc3ba45d633",
   "metadata": {},
   "outputs": [
    {
     "data": {
      "text/markdown": [
       "#### Effect of content length (LLM-llama-70b-table-selection, LLM-llama-70b-column-matching)"
      ],
      "text/plain": [
       "<IPython.core.display.Markdown object>"
      ]
     },
     "metadata": {},
     "output_type": "display_data"
    },
    {
     "data": {
      "text/html": [
       "<style type=\"text/css\">\n",
       "#T_16372_row0_col0, #T_16372_row0_col1, #T_16372_row0_col2, #T_16372_row0_col3, #T_16372_row0_col4 {\n",
       "  font-weight: bold;\n",
       "}\n",
       "#T_16372_row1_col0, #T_16372_row1_col1, #T_16372_row1_col2, #T_16372_row1_col3, #T_16372_row1_col4 {\n",
       "  text-decoration: underline;\n",
       "}\n",
       "</style>\n",
       "<table id=\"T_16372\">\n",
       "  <thead>\n",
       "    <tr>\n",
       "      <th class=\"blank level0\" >&nbsp;</th>\n",
       "      <th id=\"T_16372_level0_col0\" class=\"col_heading level0 col0\" >imdb-sakila</th>\n",
       "      <th id=\"T_16372_level0_col1\" class=\"col_heading level0 col1\" >cms-omop</th>\n",
       "      <th id=\"T_16372_level0_col2\" class=\"col_heading level0 col2\" >cprd_aurum-omop</th>\n",
       "      <th id=\"T_16372_level0_col3\" class=\"col_heading level0 col3\" >cprd_gold-omop</th>\n",
       "      <th id=\"T_16372_level0_col4\" class=\"col_heading level0 col4\" >mimic_iii-omop</th>\n",
       "    </tr>\n",
       "  </thead>\n",
       "  <tbody>\n",
       "    <tr>\n",
       "      <th id=\"T_16372_level0_row0\" class=\"row_heading level0 row0\" >llm</th>\n",
       "      <td id=\"T_16372_row0_col0\" class=\"data row0 col0\" >0.810</td>\n",
       "      <td id=\"T_16372_row0_col1\" class=\"data row0 col1\" >0.600</td>\n",
       "      <td id=\"T_16372_row0_col2\" class=\"data row0 col2\" >0.440</td>\n",
       "      <td id=\"T_16372_row0_col3\" class=\"data row0 col3\" >0.300</td>\n",
       "      <td id=\"T_16372_row0_col4\" class=\"data row0 col4\" >0.470</td>\n",
       "    </tr>\n",
       "    <tr>\n",
       "      <th id=\"T_16372_level0_row1\" class=\"row_heading level0 row1\" >llm-one_table_to_one_table</th>\n",
       "      <td id=\"T_16372_row1_col0\" class=\"data row1 col0\" >0.740</td>\n",
       "      <td id=\"T_16372_row1_col1\" class=\"data row1 col1\" >0.560</td>\n",
       "      <td id=\"T_16372_row1_col2\" class=\"data row1 col2\" >0.420</td>\n",
       "      <td id=\"T_16372_row1_col3\" class=\"data row1 col3\" >0.270</td>\n",
       "      <td id=\"T_16372_row1_col4\" class=\"data row1 col4\" >0.430</td>\n",
       "    </tr>\n",
       "  </tbody>\n",
       "</table>\n"
      ],
      "text/plain": [
       "<pandas.io.formats.style.Styler at 0x124bab890>"
      ]
     },
     "execution_count": 19,
     "metadata": {},
     "output_type": "execute_result"
    }
   ],
   "source": [
    "main_result = effect_of_context_length(llm='deepinfra/meta-llama/Meta-Llama-3.1-70B-Instruct')\n",
    "display(Markdown(\"#### Effect of content length (LLM-llama-70b-table-selection, LLM-llama-70b-column-matching)\"))\n",
    "main_result"
   ]
  },
  {
   "cell_type": "code",
   "execution_count": 20,
   "id": "b112cfcf-f327-4327-ab53-a9cc63721837",
   "metadata": {},
   "outputs": [
    {
     "data": {
      "text/markdown": [
       "#### Effect of content length (LLM-llama-405b-table-selection, LLM-llama-405b-column-matching)"
      ],
      "text/plain": [
       "<IPython.core.display.Markdown object>"
      ]
     },
     "metadata": {},
     "output_type": "display_data"
    },
    {
     "data": {
      "text/html": [
       "<style type=\"text/css\">\n",
       "#T_c6aba_row0_col0, #T_c6aba_row0_col2, #T_c6aba_row1_col1, #T_c6aba_row1_col3, #T_c6aba_row1_col4 {\n",
       "  text-decoration: underline;\n",
       "}\n",
       "#T_c6aba_row0_col1, #T_c6aba_row0_col3, #T_c6aba_row0_col4, #T_c6aba_row1_col0, #T_c6aba_row1_col2 {\n",
       "  font-weight: bold;\n",
       "}\n",
       "</style>\n",
       "<table id=\"T_c6aba\">\n",
       "  <thead>\n",
       "    <tr>\n",
       "      <th class=\"blank level0\" >&nbsp;</th>\n",
       "      <th id=\"T_c6aba_level0_col0\" class=\"col_heading level0 col0\" >imdb-sakila</th>\n",
       "      <th id=\"T_c6aba_level0_col1\" class=\"col_heading level0 col1\" >cms-omop</th>\n",
       "      <th id=\"T_c6aba_level0_col2\" class=\"col_heading level0 col2\" >cprd_aurum-omop</th>\n",
       "      <th id=\"T_c6aba_level0_col3\" class=\"col_heading level0 col3\" >cprd_gold-omop</th>\n",
       "      <th id=\"T_c6aba_level0_col4\" class=\"col_heading level0 col4\" >mimic_iii-omop</th>\n",
       "    </tr>\n",
       "  </thead>\n",
       "  <tbody>\n",
       "    <tr>\n",
       "      <th id=\"T_c6aba_level0_row0\" class=\"row_heading level0 row0\" >llm</th>\n",
       "      <td id=\"T_c6aba_row0_col0\" class=\"data row0 col0\" >0.680</td>\n",
       "      <td id=\"T_c6aba_row0_col1\" class=\"data row0 col1\" >0.600</td>\n",
       "      <td id=\"T_c6aba_row0_col2\" class=\"data row0 col2\" >0.370</td>\n",
       "      <td id=\"T_c6aba_row0_col3\" class=\"data row0 col3\" >0.340</td>\n",
       "      <td id=\"T_c6aba_row0_col4\" class=\"data row0 col4\" >0.500</td>\n",
       "    </tr>\n",
       "    <tr>\n",
       "      <th id=\"T_c6aba_level0_row1\" class=\"row_heading level0 row1\" >llm-one_table_to_one_table</th>\n",
       "      <td id=\"T_c6aba_row1_col0\" class=\"data row1 col0\" >0.700</td>\n",
       "      <td id=\"T_c6aba_row1_col1\" class=\"data row1 col1\" >0.530</td>\n",
       "      <td id=\"T_c6aba_row1_col2\" class=\"data row1 col2\" >0.380</td>\n",
       "      <td id=\"T_c6aba_row1_col3\" class=\"data row1 col3\" >0.280</td>\n",
       "      <td id=\"T_c6aba_row1_col4\" class=\"data row1 col4\" >0.470</td>\n",
       "    </tr>\n",
       "  </tbody>\n",
       "</table>\n"
      ],
      "text/plain": [
       "<pandas.io.formats.style.Styler at 0x124b85f50>"
      ]
     },
     "execution_count": 20,
     "metadata": {},
     "output_type": "execute_result"
    }
   ],
   "source": [
    "main_result = effect_of_context_length(llm='deepinfra/meta-llama/Meta-Llama-3.1-405B-Instruct')\n",
    "display(Markdown(\"#### Effect of content length (LLM-llama-405b-table-selection, LLM-llama-405b-column-matching)\"))\n",
    "main_result"
   ]
  },
  {
   "cell_type": "code",
   "execution_count": 21,
   "id": "3e9ac942-a3a1-481d-a42e-84b27489d16b",
   "metadata": {},
   "outputs": [
    {
     "data": {
      "text/markdown": [
       "#### Effect of k in table to table matching ( LLM-gpt-4o-column-matching)"
      ],
      "text/plain": [
       "<IPython.core.display.Markdown object>"
      ]
     },
     "metadata": {},
     "output_type": "display_data"
    },
    {
     "data": {
      "text/html": [
       "<style type=\"text/css\">\n",
       "#T_09f89_row0_col0, #T_09f89_row0_col2, #T_09f89_row0_col3, #T_09f89_row0_col4, #T_09f89_row1_col0, #T_09f89_row1_col1 {\n",
       "  font-weight: bold;\n",
       "}\n",
       "#T_09f89_row0_col1, #T_09f89_row1_col2, #T_09f89_row1_col3, #T_09f89_row1_col4 {\n",
       "  text-decoration: underline;\n",
       "}\n",
       "</style>\n",
       "<table id=\"T_09f89\">\n",
       "  <thead>\n",
       "    <tr>\n",
       "      <th class=\"blank level0\" >&nbsp;</th>\n",
       "      <th id=\"T_09f89_level0_col0\" class=\"col_heading level0 col0\" >imdb-sakila</th>\n",
       "      <th id=\"T_09f89_level0_col1\" class=\"col_heading level0 col1\" >cms-omop</th>\n",
       "      <th id=\"T_09f89_level0_col2\" class=\"col_heading level0 col2\" >cprd_aurum-omop</th>\n",
       "      <th id=\"T_09f89_level0_col3\" class=\"col_heading level0 col3\" >cprd_gold-omop</th>\n",
       "      <th id=\"T_09f89_level0_col4\" class=\"col_heading level0 col4\" >mimic_iii-omop</th>\n",
       "    </tr>\n",
       "  </thead>\n",
       "  <tbody>\n",
       "    <tr>\n",
       "      <th id=\"T_09f89_level0_row0\" class=\"row_heading level0 row0\" >table_to_table_vector_similarity</th>\n",
       "      <td id=\"T_09f89_row0_col0\" class=\"data row0 col0\" >0.850</td>\n",
       "      <td id=\"T_09f89_row0_col1\" class=\"data row0 col1\" >0.400</td>\n",
       "      <td id=\"T_09f89_row0_col2\" class=\"data row0 col2\" >0.640</td>\n",
       "      <td id=\"T_09f89_row0_col3\" class=\"data row0 col3\" >0.450</td>\n",
       "      <td id=\"T_09f89_row0_col4\" class=\"data row0 col4\" >0.620</td>\n",
       "    </tr>\n",
       "    <tr>\n",
       "      <th id=\"T_09f89_level0_row1\" class=\"row_heading level0 row1\" >table_to_table_top_10_vector_similarity</th>\n",
       "      <td id=\"T_09f89_row1_col0\" class=\"data row1 col0\" >0.850</td>\n",
       "      <td id=\"T_09f89_row1_col1\" class=\"data row1 col1\" >0.430</td>\n",
       "      <td id=\"T_09f89_row1_col2\" class=\"data row1 col2\" >0.550</td>\n",
       "      <td id=\"T_09f89_row1_col3\" class=\"data row1 col3\" >0.410</td>\n",
       "      <td id=\"T_09f89_row1_col4\" class=\"data row1 col4\" >0.530</td>\n",
       "    </tr>\n",
       "  </tbody>\n",
       "</table>\n"
      ],
      "text/plain": [
       "<pandas.io.formats.style.Styler at 0x124babf90>"
      ]
     },
     "execution_count": 21,
     "metadata": {},
     "output_type": "execute_result"
    }
   ],
   "source": [
    "main_result = effect_of_k_in_table_to_table_vector_similarity(llm='gpt-4o')\n",
    "display(Markdown(\"#### Effect of k in table to table matching ( LLM-gpt-4o-column-matching)\"))\n",
    "main_result"
   ]
  },
  {
   "cell_type": "code",
   "execution_count": 22,
   "id": "eaed05f8-6445-4377-8026-95b0155da9ad",
   "metadata": {},
   "outputs": [
    {
     "data": {
      "text/markdown": [
       "#### Effect of k in table to table matching ( LLM-gpt-3.5-column-matching)"
      ],
      "text/plain": [
       "<IPython.core.display.Markdown object>"
      ]
     },
     "metadata": {},
     "output_type": "display_data"
    },
    {
     "data": {
      "text/html": [
       "<style type=\"text/css\">\n",
       "#T_5fd9b_row0_col0, #T_5fd9b_row0_col3, #T_5fd9b_row0_col4, #T_5fd9b_row1_col1, #T_5fd9b_row1_col2 {\n",
       "  font-weight: bold;\n",
       "}\n",
       "#T_5fd9b_row0_col1, #T_5fd9b_row0_col2, #T_5fd9b_row1_col0, #T_5fd9b_row1_col3, #T_5fd9b_row1_col4 {\n",
       "  text-decoration: underline;\n",
       "}\n",
       "</style>\n",
       "<table id=\"T_5fd9b\">\n",
       "  <thead>\n",
       "    <tr>\n",
       "      <th class=\"blank level0\" >&nbsp;</th>\n",
       "      <th id=\"T_5fd9b_level0_col0\" class=\"col_heading level0 col0\" >imdb-sakila</th>\n",
       "      <th id=\"T_5fd9b_level0_col1\" class=\"col_heading level0 col1\" >cms-omop</th>\n",
       "      <th id=\"T_5fd9b_level0_col2\" class=\"col_heading level0 col2\" >cprd_aurum-omop</th>\n",
       "      <th id=\"T_5fd9b_level0_col3\" class=\"col_heading level0 col3\" >cprd_gold-omop</th>\n",
       "      <th id=\"T_5fd9b_level0_col4\" class=\"col_heading level0 col4\" >mimic_iii-omop</th>\n",
       "    </tr>\n",
       "  </thead>\n",
       "  <tbody>\n",
       "    <tr>\n",
       "      <th id=\"T_5fd9b_level0_row0\" class=\"row_heading level0 row0\" >table_to_table_vector_similarity</th>\n",
       "      <td id=\"T_5fd9b_row0_col0\" class=\"data row0 col0\" >0.670</td>\n",
       "      <td id=\"T_5fd9b_row0_col1\" class=\"data row0 col1\" >0.200</td>\n",
       "      <td id=\"T_5fd9b_row0_col2\" class=\"data row0 col2\" >0.390</td>\n",
       "      <td id=\"T_5fd9b_row0_col3\" class=\"data row0 col3\" >0.430</td>\n",
       "      <td id=\"T_5fd9b_row0_col4\" class=\"data row0 col4\" >0.330</td>\n",
       "    </tr>\n",
       "    <tr>\n",
       "      <th id=\"T_5fd9b_level0_row1\" class=\"row_heading level0 row1\" >table_to_table_top_10_vector_similarity</th>\n",
       "      <td id=\"T_5fd9b_row1_col0\" class=\"data row1 col0\" >0.610</td>\n",
       "      <td id=\"T_5fd9b_row1_col1\" class=\"data row1 col1\" >0.390</td>\n",
       "      <td id=\"T_5fd9b_row1_col2\" class=\"data row1 col2\" >0.400</td>\n",
       "      <td id=\"T_5fd9b_row1_col3\" class=\"data row1 col3\" >0.330</td>\n",
       "      <td id=\"T_5fd9b_row1_col4\" class=\"data row1 col4\" >0.310</td>\n",
       "    </tr>\n",
       "  </tbody>\n",
       "</table>\n"
      ],
      "text/plain": [
       "<pandas.io.formats.style.Styler at 0x124b6f9d0>"
      ]
     },
     "execution_count": 22,
     "metadata": {},
     "output_type": "execute_result"
    }
   ],
   "source": [
    "main_result = effect_of_k_in_table_to_table_vector_similarity(llm='gpt-3.5-turbo')\n",
    "display(Markdown(\"#### Effect of k in table to table matching ( LLM-gpt-3.5-column-matching)\"))\n",
    "main_result"
   ]
  },
  {
   "cell_type": "code",
   "execution_count": 25,
   "id": "6959ae15-f4f7-4aa8-8d08-ea2b61bc509f",
   "metadata": {},
   "outputs": [
    {
     "data": {
      "text/markdown": [
       "#### Effect of context size in table selection ( LLM-gpt-3.5-table-selection)"
      ],
      "text/plain": [
       "<IPython.core.display.Markdown object>"
      ]
     },
     "metadata": {},
     "output_type": "display_data"
    },
    {
     "data": {
      "text/html": [
       "<style type=\"text/css\">\n",
       "#T_d2792_row0_col0, #T_d2792_row0_col1, #T_d2792_row0_col2, #T_d2792_row0_col3, #T_d2792_row0_col4, #T_d2792_row1_col0, #T_d2792_row1_col1, #T_d2792_row1_col2, #T_d2792_row1_col3, #T_d2792_row1_col4, #T_d2792_row2_col0, #T_d2792_row2_col1, #T_d2792_row2_col2, #T_d2792_row2_col3, #T_d2792_row2_col4, #T_d2792_row3_col0, #T_d2792_row3_col1, #T_d2792_row3_col2, #T_d2792_row3_col3, #T_d2792_row3_col4, #T_d2792_row4_col0, #T_d2792_row4_col1, #T_d2792_row4_col2, #T_d2792_row4_col3, #T_d2792_row4_col4, #T_d2792_row5_col0, #T_d2792_row5_col1, #T_d2792_row5_col2, #T_d2792_row5_col3, #T_d2792_row5_col4, #T_d2792_row6_col0, #T_d2792_row6_col1, #T_d2792_row6_col2, #T_d2792_row6_col3, #T_d2792_row6_col4, #T_d2792_row7_col0, #T_d2792_row7_col1, #T_d2792_row7_col2, #T_d2792_row7_col3, #T_d2792_row7_col4, #T_d2792_row8_col0, #T_d2792_row8_col1, #T_d2792_row8_col2, #T_d2792_row8_col3, #T_d2792_row8_col4, #T_d2792_row9_col0, #T_d2792_row9_col1, #T_d2792_row9_col2, #T_d2792_row9_col3, #T_d2792_row9_col4 {\n",
       "  font-weight: bold;\n",
       "}\n",
       "</style>\n",
       "<table id=\"T_d2792\">\n",
       "  <thead>\n",
       "    <tr>\n",
       "      <th class=\"blank level0\" >&nbsp;</th>\n",
       "      <th id=\"T_d2792_level0_col0\" class=\"col_heading level0 col0\" >imdb-sakila</th>\n",
       "      <th id=\"T_d2792_level0_col1\" class=\"col_heading level0 col1\" >cms-omop</th>\n",
       "      <th id=\"T_d2792_level0_col2\" class=\"col_heading level0 col2\" >cprd_aurum-omop</th>\n",
       "      <th id=\"T_d2792_level0_col3\" class=\"col_heading level0 col3\" >cprd_gold-omop</th>\n",
       "      <th id=\"T_d2792_level0_col4\" class=\"col_heading level0 col4\" >mimic_iii-omop</th>\n",
       "    </tr>\n",
       "  </thead>\n",
       "  <tbody>\n",
       "    <tr>\n",
       "      <th id=\"T_d2792_level0_row0\" class=\"row_heading level0 row0\" >100</th>\n",
       "      <td id=\"T_d2792_row0_col0\" class=\"data row0 col0\" >0.400</td>\n",
       "      <td id=\"T_d2792_row0_col1\" class=\"data row0 col1\" >0.260</td>\n",
       "      <td id=\"T_d2792_row0_col2\" class=\"data row0 col2\" >0.260</td>\n",
       "      <td id=\"T_d2792_row0_col3\" class=\"data row0 col3\" >0.170</td>\n",
       "      <td id=\"T_d2792_row0_col4\" class=\"data row0 col4\" >0.410</td>\n",
       "    </tr>\n",
       "    <tr>\n",
       "      <th id=\"T_d2792_level0_row1\" class=\"row_heading level0 row1\" >200</th>\n",
       "      <td id=\"T_d2792_row1_col0\" class=\"data row1 col0\" >0.400</td>\n",
       "      <td id=\"T_d2792_row1_col1\" class=\"data row1 col1\" >0.260</td>\n",
       "      <td id=\"T_d2792_row1_col2\" class=\"data row1 col2\" >0.260</td>\n",
       "      <td id=\"T_d2792_row1_col3\" class=\"data row1 col3\" >0.170</td>\n",
       "      <td id=\"T_d2792_row1_col4\" class=\"data row1 col4\" >0.410</td>\n",
       "    </tr>\n",
       "    <tr>\n",
       "      <th id=\"T_d2792_level0_row2\" class=\"row_heading level0 row2\" >500</th>\n",
       "      <td id=\"T_d2792_row2_col0\" class=\"data row2 col0\" >0.400</td>\n",
       "      <td id=\"T_d2792_row2_col1\" class=\"data row2 col1\" >0.260</td>\n",
       "      <td id=\"T_d2792_row2_col2\" class=\"data row2 col2\" >0.260</td>\n",
       "      <td id=\"T_d2792_row2_col3\" class=\"data row2 col3\" >0.170</td>\n",
       "      <td id=\"T_d2792_row2_col4\" class=\"data row2 col4\" >0.410</td>\n",
       "    </tr>\n",
       "    <tr>\n",
       "      <th id=\"T_d2792_level0_row3\" class=\"row_heading level0 row3\" >1000</th>\n",
       "      <td id=\"T_d2792_row3_col0\" class=\"data row3 col0\" >0.400</td>\n",
       "      <td id=\"T_d2792_row3_col1\" class=\"data row3 col1\" >0.260</td>\n",
       "      <td id=\"T_d2792_row3_col2\" class=\"data row3 col2\" >0.260</td>\n",
       "      <td id=\"T_d2792_row3_col3\" class=\"data row3 col3\" >0.170</td>\n",
       "      <td id=\"T_d2792_row3_col4\" class=\"data row3 col4\" >0.410</td>\n",
       "    </tr>\n",
       "    <tr>\n",
       "      <th id=\"T_d2792_level0_row4\" class=\"row_heading level0 row4\" >2000</th>\n",
       "      <td id=\"T_d2792_row4_col0\" class=\"data row4 col0\" >0.400</td>\n",
       "      <td id=\"T_d2792_row4_col1\" class=\"data row4 col1\" >0.260</td>\n",
       "      <td id=\"T_d2792_row4_col2\" class=\"data row4 col2\" >0.260</td>\n",
       "      <td id=\"T_d2792_row4_col3\" class=\"data row4 col3\" >0.170</td>\n",
       "      <td id=\"T_d2792_row4_col4\" class=\"data row4 col4\" >0.410</td>\n",
       "    </tr>\n",
       "    <tr>\n",
       "      <th id=\"T_d2792_level0_row5\" class=\"row_heading level0 row5\" >4000</th>\n",
       "      <td id=\"T_d2792_row5_col0\" class=\"data row5 col0\" >0.400</td>\n",
       "      <td id=\"T_d2792_row5_col1\" class=\"data row5 col1\" >0.260</td>\n",
       "      <td id=\"T_d2792_row5_col2\" class=\"data row5 col2\" >0.260</td>\n",
       "      <td id=\"T_d2792_row5_col3\" class=\"data row5 col3\" >0.170</td>\n",
       "      <td id=\"T_d2792_row5_col4\" class=\"data row5 col4\" >0.410</td>\n",
       "    </tr>\n",
       "    <tr>\n",
       "      <th id=\"T_d2792_level0_row6\" class=\"row_heading level0 row6\" >6000</th>\n",
       "      <td id=\"T_d2792_row6_col0\" class=\"data row6 col0\" >0.400</td>\n",
       "      <td id=\"T_d2792_row6_col1\" class=\"data row6 col1\" >0.260</td>\n",
       "      <td id=\"T_d2792_row6_col2\" class=\"data row6 col2\" >0.260</td>\n",
       "      <td id=\"T_d2792_row6_col3\" class=\"data row6 col3\" >0.170</td>\n",
       "      <td id=\"T_d2792_row6_col4\" class=\"data row6 col4\" >0.410</td>\n",
       "    </tr>\n",
       "    <tr>\n",
       "      <th id=\"T_d2792_level0_row7\" class=\"row_heading level0 row7\" >8000</th>\n",
       "      <td id=\"T_d2792_row7_col0\" class=\"data row7 col0\" >0.400</td>\n",
       "      <td id=\"T_d2792_row7_col1\" class=\"data row7 col1\" >0.260</td>\n",
       "      <td id=\"T_d2792_row7_col2\" class=\"data row7 col2\" >0.260</td>\n",
       "      <td id=\"T_d2792_row7_col3\" class=\"data row7 col3\" >0.170</td>\n",
       "      <td id=\"T_d2792_row7_col4\" class=\"data row7 col4\" >0.410</td>\n",
       "    </tr>\n",
       "    <tr>\n",
       "      <th id=\"T_d2792_level0_row8\" class=\"row_heading level0 row8\" >10000</th>\n",
       "      <td id=\"T_d2792_row8_col0\" class=\"data row8 col0\" >0.400</td>\n",
       "      <td id=\"T_d2792_row8_col1\" class=\"data row8 col1\" >0.260</td>\n",
       "      <td id=\"T_d2792_row8_col2\" class=\"data row8 col2\" >0.260</td>\n",
       "      <td id=\"T_d2792_row8_col3\" class=\"data row8 col3\" >0.170</td>\n",
       "      <td id=\"T_d2792_row8_col4\" class=\"data row8 col4\" >0.410</td>\n",
       "    </tr>\n",
       "    <tr>\n",
       "      <th id=\"T_d2792_level0_row9\" class=\"row_heading level0 row9\" >12000</th>\n",
       "      <td id=\"T_d2792_row9_col0\" class=\"data row9 col0\" >0.400</td>\n",
       "      <td id=\"T_d2792_row9_col1\" class=\"data row9 col1\" >0.260</td>\n",
       "      <td id=\"T_d2792_row9_col2\" class=\"data row9 col2\" >0.260</td>\n",
       "      <td id=\"T_d2792_row9_col3\" class=\"data row9 col3\" >0.170</td>\n",
       "      <td id=\"T_d2792_row9_col4\" class=\"data row9 col4\" >0.410</td>\n",
       "    </tr>\n",
       "  </tbody>\n",
       "</table>\n"
      ],
      "text/plain": [
       "<pandas.io.formats.style.Styler at 0x114550650>"
      ]
     },
     "execution_count": 25,
     "metadata": {},
     "output_type": "execute_result"
    }
   ],
   "source": [
    "main_result = effect_of_context_size_in_table_selection(llm='gpt-3.5-turbo')\n",
    "display(Markdown(\"#### Effect of context size in table selection ( LLM-gpt-3.5-table-selection)\"))\n",
    "main_result"
   ]
  },
  {
   "cell_type": "code",
   "execution_count": 26,
   "id": "79886d10-02ef-497f-8059-110936768296",
   "metadata": {},
   "outputs": [
    {
     "data": {
      "text/markdown": [
       "#### Effect of context size in table selection ( LLM-gpt-4o)"
      ],
      "text/plain": [
       "<IPython.core.display.Markdown object>"
      ]
     },
     "metadata": {},
     "output_type": "display_data"
    },
    {
     "data": {
      "text/html": [
       "<style type=\"text/css\">\n",
       "#T_dcb13_row0_col0, #T_dcb13_row0_col1, #T_dcb13_row0_col2, #T_dcb13_row0_col3, #T_dcb13_row0_col4, #T_dcb13_row1_col0, #T_dcb13_row1_col1, #T_dcb13_row1_col2, #T_dcb13_row1_col3, #T_dcb13_row1_col4, #T_dcb13_row2_col0, #T_dcb13_row2_col1, #T_dcb13_row2_col2, #T_dcb13_row2_col3, #T_dcb13_row2_col4, #T_dcb13_row3_col0, #T_dcb13_row3_col1, #T_dcb13_row3_col2, #T_dcb13_row3_col3, #T_dcb13_row3_col4, #T_dcb13_row4_col0, #T_dcb13_row4_col1, #T_dcb13_row4_col2, #T_dcb13_row4_col3, #T_dcb13_row4_col4, #T_dcb13_row5_col0, #T_dcb13_row5_col1, #T_dcb13_row5_col2, #T_dcb13_row5_col3, #T_dcb13_row5_col4, #T_dcb13_row6_col0, #T_dcb13_row6_col1, #T_dcb13_row6_col2, #T_dcb13_row6_col3, #T_dcb13_row6_col4, #T_dcb13_row7_col0, #T_dcb13_row7_col1, #T_dcb13_row7_col2, #T_dcb13_row7_col3, #T_dcb13_row7_col4, #T_dcb13_row8_col0, #T_dcb13_row8_col1, #T_dcb13_row8_col2, #T_dcb13_row8_col3, #T_dcb13_row8_col4, #T_dcb13_row9_col0, #T_dcb13_row9_col1, #T_dcb13_row9_col2, #T_dcb13_row9_col3, #T_dcb13_row9_col4 {\n",
       "  font-weight: bold;\n",
       "}\n",
       "</style>\n",
       "<table id=\"T_dcb13\">\n",
       "  <thead>\n",
       "    <tr>\n",
       "      <th class=\"blank level0\" >&nbsp;</th>\n",
       "      <th id=\"T_dcb13_level0_col0\" class=\"col_heading level0 col0\" >imdb-sakila</th>\n",
       "      <th id=\"T_dcb13_level0_col1\" class=\"col_heading level0 col1\" >cms-omop</th>\n",
       "      <th id=\"T_dcb13_level0_col2\" class=\"col_heading level0 col2\" >cprd_aurum-omop</th>\n",
       "      <th id=\"T_dcb13_level0_col3\" class=\"col_heading level0 col3\" >cprd_gold-omop</th>\n",
       "      <th id=\"T_dcb13_level0_col4\" class=\"col_heading level0 col4\" >mimic_iii-omop</th>\n",
       "    </tr>\n",
       "  </thead>\n",
       "  <tbody>\n",
       "    <tr>\n",
       "      <th id=\"T_dcb13_level0_row0\" class=\"row_heading level0 row0\" >100</th>\n",
       "      <td id=\"T_dcb13_row0_col0\" class=\"data row0 col0\" >0.400</td>\n",
       "      <td id=\"T_dcb13_row0_col1\" class=\"data row0 col1\" >0.500</td>\n",
       "      <td id=\"T_dcb13_row0_col2\" class=\"data row0 col2\" >0.390</td>\n",
       "      <td id=\"T_dcb13_row0_col3\" class=\"data row0 col3\" >0.390</td>\n",
       "      <td id=\"T_dcb13_row0_col4\" class=\"data row0 col4\" >0.520</td>\n",
       "    </tr>\n",
       "    <tr>\n",
       "      <th id=\"T_dcb13_level0_row1\" class=\"row_heading level0 row1\" >200</th>\n",
       "      <td id=\"T_dcb13_row1_col0\" class=\"data row1 col0\" >0.400</td>\n",
       "      <td id=\"T_dcb13_row1_col1\" class=\"data row1 col1\" >0.500</td>\n",
       "      <td id=\"T_dcb13_row1_col2\" class=\"data row1 col2\" >0.390</td>\n",
       "      <td id=\"T_dcb13_row1_col3\" class=\"data row1 col3\" >0.390</td>\n",
       "      <td id=\"T_dcb13_row1_col4\" class=\"data row1 col4\" >0.520</td>\n",
       "    </tr>\n",
       "    <tr>\n",
       "      <th id=\"T_dcb13_level0_row2\" class=\"row_heading level0 row2\" >500</th>\n",
       "      <td id=\"T_dcb13_row2_col0\" class=\"data row2 col0\" >0.400</td>\n",
       "      <td id=\"T_dcb13_row2_col1\" class=\"data row2 col1\" >0.500</td>\n",
       "      <td id=\"T_dcb13_row2_col2\" class=\"data row2 col2\" >0.390</td>\n",
       "      <td id=\"T_dcb13_row2_col3\" class=\"data row2 col3\" >0.390</td>\n",
       "      <td id=\"T_dcb13_row2_col4\" class=\"data row2 col4\" >0.520</td>\n",
       "    </tr>\n",
       "    <tr>\n",
       "      <th id=\"T_dcb13_level0_row3\" class=\"row_heading level0 row3\" >1000</th>\n",
       "      <td id=\"T_dcb13_row3_col0\" class=\"data row3 col0\" >0.400</td>\n",
       "      <td id=\"T_dcb13_row3_col1\" class=\"data row3 col1\" >0.500</td>\n",
       "      <td id=\"T_dcb13_row3_col2\" class=\"data row3 col2\" >0.390</td>\n",
       "      <td id=\"T_dcb13_row3_col3\" class=\"data row3 col3\" >0.390</td>\n",
       "      <td id=\"T_dcb13_row3_col4\" class=\"data row3 col4\" >0.520</td>\n",
       "    </tr>\n",
       "    <tr>\n",
       "      <th id=\"T_dcb13_level0_row4\" class=\"row_heading level0 row4\" >2000</th>\n",
       "      <td id=\"T_dcb13_row4_col0\" class=\"data row4 col0\" >0.400</td>\n",
       "      <td id=\"T_dcb13_row4_col1\" class=\"data row4 col1\" >0.500</td>\n",
       "      <td id=\"T_dcb13_row4_col2\" class=\"data row4 col2\" >0.390</td>\n",
       "      <td id=\"T_dcb13_row4_col3\" class=\"data row4 col3\" >0.390</td>\n",
       "      <td id=\"T_dcb13_row4_col4\" class=\"data row4 col4\" >0.520</td>\n",
       "    </tr>\n",
       "    <tr>\n",
       "      <th id=\"T_dcb13_level0_row5\" class=\"row_heading level0 row5\" >4000</th>\n",
       "      <td id=\"T_dcb13_row5_col0\" class=\"data row5 col0\" >0.400</td>\n",
       "      <td id=\"T_dcb13_row5_col1\" class=\"data row5 col1\" >0.500</td>\n",
       "      <td id=\"T_dcb13_row5_col2\" class=\"data row5 col2\" >0.390</td>\n",
       "      <td id=\"T_dcb13_row5_col3\" class=\"data row5 col3\" >0.390</td>\n",
       "      <td id=\"T_dcb13_row5_col4\" class=\"data row5 col4\" >0.520</td>\n",
       "    </tr>\n",
       "    <tr>\n",
       "      <th id=\"T_dcb13_level0_row6\" class=\"row_heading level0 row6\" >6000</th>\n",
       "      <td id=\"T_dcb13_row6_col0\" class=\"data row6 col0\" >0.400</td>\n",
       "      <td id=\"T_dcb13_row6_col1\" class=\"data row6 col1\" >0.500</td>\n",
       "      <td id=\"T_dcb13_row6_col2\" class=\"data row6 col2\" >0.390</td>\n",
       "      <td id=\"T_dcb13_row6_col3\" class=\"data row6 col3\" >0.390</td>\n",
       "      <td id=\"T_dcb13_row6_col4\" class=\"data row6 col4\" >0.520</td>\n",
       "    </tr>\n",
       "    <tr>\n",
       "      <th id=\"T_dcb13_level0_row7\" class=\"row_heading level0 row7\" >8000</th>\n",
       "      <td id=\"T_dcb13_row7_col0\" class=\"data row7 col0\" >0.400</td>\n",
       "      <td id=\"T_dcb13_row7_col1\" class=\"data row7 col1\" >0.500</td>\n",
       "      <td id=\"T_dcb13_row7_col2\" class=\"data row7 col2\" >0.390</td>\n",
       "      <td id=\"T_dcb13_row7_col3\" class=\"data row7 col3\" >0.390</td>\n",
       "      <td id=\"T_dcb13_row7_col4\" class=\"data row7 col4\" >0.520</td>\n",
       "    </tr>\n",
       "    <tr>\n",
       "      <th id=\"T_dcb13_level0_row8\" class=\"row_heading level0 row8\" >10000</th>\n",
       "      <td id=\"T_dcb13_row8_col0\" class=\"data row8 col0\" >0.400</td>\n",
       "      <td id=\"T_dcb13_row8_col1\" class=\"data row8 col1\" >0.500</td>\n",
       "      <td id=\"T_dcb13_row8_col2\" class=\"data row8 col2\" >0.390</td>\n",
       "      <td id=\"T_dcb13_row8_col3\" class=\"data row8 col3\" >0.390</td>\n",
       "      <td id=\"T_dcb13_row8_col4\" class=\"data row8 col4\" >0.520</td>\n",
       "    </tr>\n",
       "    <tr>\n",
       "      <th id=\"T_dcb13_level0_row9\" class=\"row_heading level0 row9\" >12000</th>\n",
       "      <td id=\"T_dcb13_row9_col0\" class=\"data row9 col0\" >0.400</td>\n",
       "      <td id=\"T_dcb13_row9_col1\" class=\"data row9 col1\" >0.500</td>\n",
       "      <td id=\"T_dcb13_row9_col2\" class=\"data row9 col2\" >0.390</td>\n",
       "      <td id=\"T_dcb13_row9_col3\" class=\"data row9 col3\" >0.390</td>\n",
       "      <td id=\"T_dcb13_row9_col4\" class=\"data row9 col4\" >0.520</td>\n",
       "    </tr>\n",
       "  </tbody>\n",
       "</table>\n"
      ],
      "text/plain": [
       "<pandas.io.formats.style.Styler at 0x124b0a850>"
      ]
     },
     "execution_count": 26,
     "metadata": {},
     "output_type": "execute_result"
    }
   ],
   "source": [
    "main_result = effect_of_context_size_in_table_selection(llm='gpt-4o')\n",
    "display(Markdown(\"#### Effect of context size in table selection ( LLM-gpt-4o)\"))\n",
    "main_result"
   ]
  },
  {
   "cell_type": "code",
   "execution_count": null,
   "id": "d1bfe15c-238f-4000-ab8b-8e8f9317a8ec",
   "metadata": {},
   "outputs": [],
   "source": []
  }
 ],
 "metadata": {
  "kernelspec": {
   "display_name": "Python 3 (ipykernel)",
   "language": "python",
   "name": "python3"
  },
  "language_info": {
   "codemirror_mode": {
    "name": "ipython",
    "version": 3
   },
   "file_extension": ".py",
   "mimetype": "text/x-python",
   "name": "python",
   "nbconvert_exporter": "python",
   "pygments_lexer": "ipython3",
   "version": "3.11.6"
  }
 },
 "nbformat": 4,
 "nbformat_minor": 5
}
