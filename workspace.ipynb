{
 "cells": [
  {
   "cell_type": "code",
   "execution_count": 51,
   "id": "254c7fb6-65ed-4c53-8440-ca43deefcdd7",
   "metadata": {},
   "outputs": [
    {
     "name": "stdout",
     "output_type": "stream",
     "text": [
      "The autoreload extension is already loaded. To reload it, use:\n",
      "  %reload_ext autoreload\n"
     ]
    }
   ],
   "source": [
    "import pandas as pd\n",
    "%load_ext autoreload\n",
    "%autoreload 2\n",
    "from IPython.display import display, Markdown\n"
   ]
  },
  {
   "cell_type": "code",
   "execution_count": 52,
   "id": "0be72300-df4c-4a12-9cba-b6817a111275",
   "metadata": {},
   "outputs": [],
   "source": [
    "from llm_ontology_alignment.evaluations.ontology_matching_evaluation import *"
   ]
  },
  {
   "cell_type": "code",
   "execution_count": 53,
   "id": "d24b724d-1ccb-4791-a95f-56f53268bb82",
   "metadata": {},
   "outputs": [],
   "source": [
    "df = get_full_results_df()"
   ]
  },
  {
   "cell_type": "code",
   "execution_count": 54,
   "id": "bba4d2bf-4d66-4ec5-9c1f-530f51d9bca9",
   "metadata": {},
   "outputs": [
    {
     "data": {
      "text/html": [
       "<div>\n",
       "<style scoped>\n",
       "    .dataframe tbody tr th:only-of-type {\n",
       "        vertical-align: middle;\n",
       "    }\n",
       "\n",
       "    .dataframe tbody tr th {\n",
       "        vertical-align: top;\n",
       "    }\n",
       "\n",
       "    .dataframe thead th {\n",
       "        text-align: right;\n",
       "    }\n",
       "</style>\n",
       "<table border=\"1\" class=\"dataframe\">\n",
       "  <thead>\n",
       "    <tr style=\"text-align: right;\">\n",
       "      <th></th>\n",
       "      <th>source_database</th>\n",
       "      <th>target_database</th>\n",
       "      <th>table_selection_strategy</th>\n",
       "      <th>column_matching_strategy</th>\n",
       "      <th>table_selection_llm</th>\n",
       "      <th>column_matching_llm</th>\n",
       "      <th>matching_llm</th>\n",
       "      <th>rewrite_llm</th>\n",
       "      <th>rewrite_prompt_tokens</th>\n",
       "      <th>rewrite_completion_tokens</th>\n",
       "      <th>rewrite_duration</th>\n",
       "      <th>matching_prompt_tokens</th>\n",
       "      <th>matching_completion_tokens</th>\n",
       "      <th>matching_duration</th>\n",
       "      <th>total_duration</th>\n",
       "      <th>precision</th>\n",
       "      <th>recall</th>\n",
       "      <th>f1_score</th>\n",
       "      <th>total_model_cost</th>\n",
       "      <th>version</th>\n",
       "    </tr>\n",
       "  </thead>\n",
       "  <tbody>\n",
       "    <tr>\n",
       "      <th>0</th>\n",
       "      <td>imdb</td>\n",
       "      <td>sakila</td>\n",
       "      <td>llm-reasoning</td>\n",
       "      <td>llm-reasoning</td>\n",
       "      <td>gpt-4o</td>\n",
       "      <td>gpt-4o</td>\n",
       "      <td>gpt-4o</td>\n",
       "      <td>gpt-4o</td>\n",
       "      <td>20136.0</td>\n",
       "      <td>7580.0</td>\n",
       "      <td>176.372</td>\n",
       "      <td>27051.0</td>\n",
       "      <td>4224.0</td>\n",
       "      <td>245.788</td>\n",
       "      <td>422.160</td>\n",
       "      <td>1.00</td>\n",
       "      <td>0.92</td>\n",
       "      <td>0.96</td>\n",
       "      <td>0.413</td>\n",
       "      <td>5</td>\n",
       "    </tr>\n",
       "    <tr>\n",
       "      <th>1</th>\n",
       "      <td>imdb</td>\n",
       "      <td>sakila</td>\n",
       "      <td>llm-reasoning</td>\n",
       "      <td>llm-reasoning</td>\n",
       "      <td>gpt-3.5-turbo</td>\n",
       "      <td>gpt-3.5-turbo</td>\n",
       "      <td>gpt-3.5-turbo</td>\n",
       "      <td>gpt-3.5-turbo</td>\n",
       "      <td>20302.0</td>\n",
       "      <td>8223.0</td>\n",
       "      <td>92.430</td>\n",
       "      <td>23678.0</td>\n",
       "      <td>3743.0</td>\n",
       "      <td>43.783</td>\n",
       "      <td>136.213</td>\n",
       "      <td>0.80</td>\n",
       "      <td>0.67</td>\n",
       "      <td>0.73</td>\n",
       "      <td>0.028</td>\n",
       "      <td>5</td>\n",
       "    </tr>\n",
       "    <tr>\n",
       "      <th>2</th>\n",
       "      <td>omop</td>\n",
       "      <td>cms</td>\n",
       "      <td>llm-reasoning</td>\n",
       "      <td>llm-reasoning</td>\n",
       "      <td>gpt-4o</td>\n",
       "      <td>gpt-4o</td>\n",
       "      <td>gpt-4o</td>\n",
       "      <td>gpt-4o</td>\n",
       "      <td>55288.0</td>\n",
       "      <td>31752.0</td>\n",
       "      <td>653.000</td>\n",
       "      <td>172820.0</td>\n",
       "      <td>31321.0</td>\n",
       "      <td>749.000</td>\n",
       "      <td>1402.000</td>\n",
       "      <td>0.66</td>\n",
       "      <td>0.66</td>\n",
       "      <td>0.66</td>\n",
       "      <td>2.087</td>\n",
       "      <td>4</td>\n",
       "    </tr>\n",
       "    <tr>\n",
       "      <th>3</th>\n",
       "      <td>omop</td>\n",
       "      <td>cms</td>\n",
       "      <td>llm-reasoning</td>\n",
       "      <td>llm-reasoning</td>\n",
       "      <td>gpt-3.5-turbo</td>\n",
       "      <td>gpt-3.5-turbo</td>\n",
       "      <td>gpt-3.5-turbo</td>\n",
       "      <td>gpt-3.5-turbo</td>\n",
       "      <td>52780.0</td>\n",
       "      <td>31210.0</td>\n",
       "      <td>366.000</td>\n",
       "      <td>146316.0</td>\n",
       "      <td>32918.0</td>\n",
       "      <td>399.000</td>\n",
       "      <td>765.000</td>\n",
       "      <td>0.43</td>\n",
       "      <td>0.68</td>\n",
       "      <td>0.53</td>\n",
       "      <td>0.132</td>\n",
       "      <td>4</td>\n",
       "    </tr>\n",
       "    <tr>\n",
       "      <th>4</th>\n",
       "      <td>mimic_iii</td>\n",
       "      <td>omop</td>\n",
       "      <td>llm-reasoning</td>\n",
       "      <td>llm-reasoning</td>\n",
       "      <td>gpt-4o</td>\n",
       "      <td>gpt-4o</td>\n",
       "      <td>gpt-4o</td>\n",
       "      <td>gpt-4o</td>\n",
       "      <td>74265.0</td>\n",
       "      <td>42679.0</td>\n",
       "      <td>981.102</td>\n",
       "      <td>434005.0</td>\n",
       "      <td>38483.0</td>\n",
       "      <td>3876.965</td>\n",
       "      <td>4858.067</td>\n",
       "      <td>0.48</td>\n",
       "      <td>0.70</td>\n",
       "      <td>0.57</td>\n",
       "      <td>3.759</td>\n",
       "      <td>5</td>\n",
       "    </tr>\n",
       "  </tbody>\n",
       "</table>\n",
       "</div>"
      ],
      "text/plain": [
       "  source_database target_database table_selection_strategy  \\\n",
       "0            imdb          sakila            llm-reasoning   \n",
       "1            imdb          sakila            llm-reasoning   \n",
       "2            omop             cms            llm-reasoning   \n",
       "3            omop             cms            llm-reasoning   \n",
       "4       mimic_iii            omop            llm-reasoning   \n",
       "\n",
       "  column_matching_strategy table_selection_llm column_matching_llm  \\\n",
       "0            llm-reasoning              gpt-4o              gpt-4o   \n",
       "1            llm-reasoning       gpt-3.5-turbo       gpt-3.5-turbo   \n",
       "2            llm-reasoning              gpt-4o              gpt-4o   \n",
       "3            llm-reasoning       gpt-3.5-turbo       gpt-3.5-turbo   \n",
       "4            llm-reasoning              gpt-4o              gpt-4o   \n",
       "\n",
       "    matching_llm    rewrite_llm  rewrite_prompt_tokens  \\\n",
       "0         gpt-4o         gpt-4o                20136.0   \n",
       "1  gpt-3.5-turbo  gpt-3.5-turbo                20302.0   \n",
       "2         gpt-4o         gpt-4o                55288.0   \n",
       "3  gpt-3.5-turbo  gpt-3.5-turbo                52780.0   \n",
       "4         gpt-4o         gpt-4o                74265.0   \n",
       "\n",
       "   rewrite_completion_tokens  rewrite_duration  matching_prompt_tokens  \\\n",
       "0                     7580.0           176.372                 27051.0   \n",
       "1                     8223.0            92.430                 23678.0   \n",
       "2                    31752.0           653.000                172820.0   \n",
       "3                    31210.0           366.000                146316.0   \n",
       "4                    42679.0           981.102                434005.0   \n",
       "\n",
       "   matching_completion_tokens  matching_duration  total_duration  precision  \\\n",
       "0                      4224.0            245.788         422.160       1.00   \n",
       "1                      3743.0             43.783         136.213       0.80   \n",
       "2                     31321.0            749.000        1402.000       0.66   \n",
       "3                     32918.0            399.000         765.000       0.43   \n",
       "4                     38483.0           3876.965        4858.067       0.48   \n",
       "\n",
       "   recall  f1_score  total_model_cost  version  \n",
       "0    0.92      0.96             0.413        5  \n",
       "1    0.67      0.73             0.028        5  \n",
       "2    0.66      0.66             2.087        4  \n",
       "3    0.68      0.53             0.132        4  \n",
       "4    0.70      0.57             3.759        5  "
      ]
     },
     "execution_count": 54,
     "metadata": {},
     "output_type": "execute_result"
    }
   ],
   "source": [
    "df.head()"
   ]
  },
  {
   "cell_type": "code",
   "execution_count": 72,
   "id": "918c4e13-d970-4bff-b9bb-50d3d06976f9",
   "metadata": {},
   "outputs": [
    {
     "data": {
      "text/html": [
       "<style type=\"text/css\">\n",
       "</style>\n",
       "<table id=\"T_32a4a\">\n",
       "  <thead>\n",
       "    <tr>\n",
       "      <th class=\"blank level0\" >&nbsp;</th>\n",
       "      <th id=\"T_32a4a_level0_col0\" class=\"col_heading level0 col0\" >imdb-sakila</th>\n",
       "      <th id=\"T_32a4a_level0_col1\" class=\"col_heading level0 col1\" >cms-omop</th>\n",
       "      <th id=\"T_32a4a_level0_col2\" class=\"col_heading level0 col2\" >cprd_aurum-omop</th>\n",
       "      <th id=\"T_32a4a_level0_col3\" class=\"col_heading level0 col3\" >cprd_gold-omop</th>\n",
       "      <th id=\"T_32a4a_level0_col4\" class=\"col_heading level0 col4\" >mimic_iii-omop</th>\n",
       "    </tr>\n",
       "  </thead>\n",
       "  <tbody>\n",
       "    <tr>\n",
       "      <th id=\"T_32a4a_level0_row0\" class=\"row_heading level0 row0\" >Coma</th>\n",
       "      <td id=\"T_32a4a_row0_col0\" class=\"data row0 col0\" >0.150</td>\n",
       "      <td id=\"T_32a4a_row0_col1\" class=\"data row0 col1\" >0.040</td>\n",
       "      <td id=\"T_32a4a_row0_col2\" class=\"data row0 col2\" >0.000</td>\n",
       "      <td id=\"T_32a4a_row0_col3\" class=\"data row0 col3\" >0.020</td>\n",
       "      <td id=\"T_32a4a_row0_col4\" class=\"data row0 col4\" >0.040</td>\n",
       "    </tr>\n",
       "    <tr>\n",
       "      <th id=\"T_32a4a_level0_row1\" class=\"row_heading level0 row1\" >SimilarityFlood</th>\n",
       "      <td id=\"T_32a4a_row1_col0\" class=\"data row1 col0\" >0.200</td>\n",
       "      <td id=\"T_32a4a_row1_col1\" class=\"data row1 col1\" >0.040</td>\n",
       "      <td id=\"T_32a4a_row1_col2\" class=\"data row1 col2\" >0.100</td>\n",
       "      <td id=\"T_32a4a_row1_col3\" class=\"data row1 col3\" >0.020</td>\n",
       "      <td id=\"T_32a4a_row1_col4\" class=\"data row1 col4\" >0.070</td>\n",
       "    </tr>\n",
       "    <tr>\n",
       "      <th id=\"T_32a4a_level0_row2\" class=\"row_heading level0 row2\" >Unicorn</th>\n",
       "      <td id=\"T_32a4a_row2_col0\" class=\"data row2 col0\" >0.000</td>\n",
       "      <td id=\"T_32a4a_row2_col1\" class=\"data row2 col1\" >0.003</td>\n",
       "      <td id=\"T_32a4a_row2_col2\" class=\"data row2 col2\" >0.018</td>\n",
       "      <td id=\"T_32a4a_row2_col3\" class=\"data row2 col3\" >0.035</td>\n",
       "      <td id=\"T_32a4a_row2_col4\" class=\"data row2 col4\" >0.015</td>\n",
       "    </tr>\n",
       "    <tr>\n",
       "      <th id=\"T_32a4a_level0_row3\" class=\"row_heading level0 row3\" >Rematch-gpt-3.5</th>\n",
       "      <td id=\"T_32a4a_row3_col0\" class=\"data row3 col0\" >0.430</td>\n",
       "      <td id=\"T_32a4a_row3_col1\" class=\"data row3 col1\" >0.170</td>\n",
       "      <td id=\"T_32a4a_row3_col2\" class=\"data row3 col2\" >0.090</td>\n",
       "      <td id=\"T_32a4a_row3_col3\" class=\"data row3 col3\" >0.040</td>\n",
       "      <td id=\"T_32a4a_row3_col4\" class=\"data row3 col4\" >0.350</td>\n",
       "    </tr>\n",
       "    <tr>\n",
       "      <th id=\"T_32a4a_level0_row4\" class=\"row_heading level0 row4\" >Rematch-gpt-4o</th>\n",
       "      <td id=\"T_32a4a_row4_col0\" class=\"data row4 col0\" >0.550</td>\n",
       "      <td id=\"T_32a4a_row4_col1\" class=\"data row4 col1\" >0.370</td>\n",
       "      <td id=\"T_32a4a_row4_col2\" class=\"data row4 col2\" >0.260</td>\n",
       "      <td id=\"T_32a4a_row4_col3\" class=\"data row4 col3\" >0.130</td>\n",
       "      <td id=\"T_32a4a_row4_col4\" class=\"data row4 col4\" >0.370</td>\n",
       "    </tr>\n",
       "    <tr>\n",
       "      <th id=\"T_32a4a_level0_row5\" class=\"row_heading level0 row5\" >Ours-gpt-3.5</th>\n",
       "      <td id=\"T_32a4a_row5_col0\" class=\"data row5 col0\" >0.720</td>\n",
       "      <td id=\"T_32a4a_row5_col1\" class=\"data row5 col1\" >0.370</td>\n",
       "      <td id=\"T_32a4a_row5_col2\" class=\"data row5 col2\" >0.500</td>\n",
       "      <td id=\"T_32a4a_row5_col3\" class=\"data row5 col3\" >0.330</td>\n",
       "      <td id=\"T_32a4a_row5_col4\" class=\"data row5 col4\" >0.420</td>\n",
       "    </tr>\n",
       "    <tr>\n",
       "      <th id=\"T_32a4a_level0_row6\" class=\"row_heading level0 row6\" >Ours-gpt-4o</th>\n",
       "      <td id=\"T_32a4a_row6_col0\" class=\"data row6 col0\" >0.820</td>\n",
       "      <td id=\"T_32a4a_row6_col1\" class=\"data row6 col1\" >0.480</td>\n",
       "      <td id=\"T_32a4a_row6_col2\" class=\"data row6 col2\" >0.430</td>\n",
       "      <td id=\"T_32a4a_row6_col3\" class=\"data row6 col3\" >0.320</td>\n",
       "      <td id=\"T_32a4a_row6_col4\" class=\"data row6 col4\" >0.600</td>\n",
       "    </tr>\n",
       "  </tbody>\n",
       "</table>\n"
      ],
      "text/plain": [
       "<pandas.io.formats.style.Styler at 0x15809d150>"
      ]
     },
     "execution_count": 72,
     "metadata": {},
     "output_type": "execute_result"
    }
   ],
   "source": [
    "from llm_ontology_alignment.evaluations.ontology_matching_evaluation import *\n",
    "main_result = get_baseline_performance()\n",
    "main_result"
   ]
  },
  {
   "cell_type": "code",
   "execution_count": 67,
   "id": "6f18f36b-086d-487e-a859-e42c8e600531",
   "metadata": {},
   "outputs": [
    {
     "data": {
      "text/markdown": [
       "#### Effect of table selection strategy (gpt-3.5-rewrite, gpt-3.5-match)"
      ],
      "text/plain": [
       "<IPython.core.display.Markdown object>"
      ]
     },
     "metadata": {},
     "output_type": "display_data"
    },
    {
     "data": {
      "text/html": [
       "<style type=\"text/css\">\n",
       "#T_63e18_row0_col1, #T_63e18_row1_col3, #T_63e18_row3_col0, #T_63e18_row3_col2, #T_63e18_row3_col4 {\n",
       "  font-weight: bold;\n",
       "}\n",
       "#T_63e18_row0_col4, #T_63e18_row1_col0, #T_63e18_row1_col2, #T_63e18_row2_col1, #T_63e18_row3_col3 {\n",
       "  text-decoration: underline;\n",
       "}\n",
       "</style>\n",
       "<table id=\"T_63e18\">\n",
       "  <thead>\n",
       "    <tr>\n",
       "      <th class=\"blank level0\" >&nbsp;</th>\n",
       "      <th id=\"T_63e18_level0_col0\" class=\"col_heading level0 col0\" >imdb-sakila</th>\n",
       "      <th id=\"T_63e18_level0_col1\" class=\"col_heading level0 col1\" >cms-omop</th>\n",
       "      <th id=\"T_63e18_level0_col2\" class=\"col_heading level0 col2\" >cprd_aurum-omop</th>\n",
       "      <th id=\"T_63e18_level0_col3\" class=\"col_heading level0 col3\" >cprd_gold-omop</th>\n",
       "      <th id=\"T_63e18_level0_col4\" class=\"col_heading level0 col4\" >mimic_iii-omop</th>\n",
       "    </tr>\n",
       "  </thead>\n",
       "  <tbody>\n",
       "    <tr>\n",
       "      <th id=\"T_63e18_level0_row0\" class=\"row_heading level0 row0\" >Column2Table</th>\n",
       "      <td id=\"T_63e18_row0_col0\" class=\"data row0 col0\" >0.650000</td>\n",
       "      <td id=\"T_63e18_row0_col1\" class=\"data row0 col1\" >0.450000</td>\n",
       "      <td id=\"T_63e18_row0_col2\" class=\"data row0 col2\" >0.280000</td>\n",
       "      <td id=\"T_63e18_row0_col3\" class=\"data row0 col3\" >0.270000</td>\n",
       "      <td id=\"T_63e18_row0_col4\" class=\"data row0 col4\" >0.380000</td>\n",
       "    </tr>\n",
       "    <tr>\n",
       "      <th id=\"T_63e18_level0_row1\" class=\"row_heading level0 row1\" >Table2Table</th>\n",
       "      <td id=\"T_63e18_row1_col0\" class=\"data row1 col0\" >0.670000</td>\n",
       "      <td id=\"T_63e18_row1_col1\" class=\"data row1 col1\" >0.200000</td>\n",
       "      <td id=\"T_63e18_row1_col2\" class=\"data row1 col2\" >0.390000</td>\n",
       "      <td id=\"T_63e18_row1_col3\" class=\"data row1 col3\" >0.430000</td>\n",
       "      <td id=\"T_63e18_row1_col4\" class=\"data row1 col4\" >0.330000</td>\n",
       "    </tr>\n",
       "    <tr>\n",
       "      <th id=\"T_63e18_level0_row2\" class=\"row_heading level0 row2\" >NestedJoin</th>\n",
       "      <td id=\"T_63e18_row2_col0\" class=\"data row2 col0\" >0.370000</td>\n",
       "      <td id=\"T_63e18_row2_col1\" class=\"data row2 col1\" >0.410000</td>\n",
       "      <td id=\"T_63e18_row2_col2\" class=\"data row2 col2\" >0.200000</td>\n",
       "      <td id=\"T_63e18_row2_col3\" class=\"data row2 col3\" >0.250000</td>\n",
       "      <td id=\"T_63e18_row2_col4\" class=\"data row2 col4\" >0.230000</td>\n",
       "    </tr>\n",
       "    <tr>\n",
       "      <th id=\"T_63e18_level0_row3\" class=\"row_heading level0 row3\" >LLM</th>\n",
       "      <td id=\"T_63e18_row3_col0\" class=\"data row3 col0\" >0.720000</td>\n",
       "      <td id=\"T_63e18_row3_col1\" class=\"data row3 col1\" >0.370000</td>\n",
       "      <td id=\"T_63e18_row3_col2\" class=\"data row3 col2\" >0.500000</td>\n",
       "      <td id=\"T_63e18_row3_col3\" class=\"data row3 col3\" >0.330000</td>\n",
       "      <td id=\"T_63e18_row3_col4\" class=\"data row3 col4\" >0.420000</td>\n",
       "    </tr>\n",
       "  </tbody>\n",
       "</table>\n"
      ],
      "text/plain": [
       "<pandas.io.formats.style.Styler at 0x1277624d0>"
      ]
     },
     "execution_count": 67,
     "metadata": {},
     "output_type": "execute_result"
    }
   ],
   "source": [
    "# effect of different table selection strategy ours-gpt-3.5\n",
    "from llm_ontology_alignment.evaluations.ontology_matching_evaluation import *\n",
    "main_result = effect_of_table_selection_strategy(\"gpt-3.5-turbo\", \"llm\", \"gpt-3.5-turbo\")\n",
    "display(Markdown(\"#### Effect of table selection strategy (gpt-3.5-rewrite, gpt-3.5-match)\"))\n",
    "main_result"
   ]
  },
  {
   "cell_type": "code",
   "execution_count": 57,
   "id": "b47c7aa8-5894-4cee-8e22-572f04d02bb2",
   "metadata": {},
   "outputs": [
    {
     "data": {
      "text/markdown": [
       "#### Effect of table selection strategy (gpt-4o-rewrite, gpt-4o-match"
      ],
      "text/plain": [
       "<IPython.core.display.Markdown object>"
      ]
     },
     "metadata": {},
     "output_type": "display_data"
    },
    {
     "data": {
      "text/html": [
       "<style type=\"text/css\">\n",
       "#T_91fea_row0_col4, #T_91fea_row1_col1, #T_91fea_row1_col3, #T_91fea_row3_col0, #T_91fea_row3_col2, #T_91fea_row3_col4 {\n",
       "  text-decoration: underline;\n",
       "}\n",
       "#T_91fea_row1_col0, #T_91fea_row1_col2, #T_91fea_row1_col4, #T_91fea_row2_col3, #T_91fea_row3_col1 {\n",
       "  font-weight: bold;\n",
       "}\n",
       "</style>\n",
       "<table id=\"T_91fea\">\n",
       "  <thead>\n",
       "    <tr>\n",
       "      <th class=\"blank level0\" >&nbsp;</th>\n",
       "      <th id=\"T_91fea_level0_col0\" class=\"col_heading level0 col0\" >imdb-sakila</th>\n",
       "      <th id=\"T_91fea_level0_col1\" class=\"col_heading level0 col1\" >cms-omop</th>\n",
       "      <th id=\"T_91fea_level0_col2\" class=\"col_heading level0 col2\" >cprd_aurum-omop</th>\n",
       "      <th id=\"T_91fea_level0_col3\" class=\"col_heading level0 col3\" >cprd_gold-omop</th>\n",
       "      <th id=\"T_91fea_level0_col4\" class=\"col_heading level0 col4\" >mimic_iii-omop</th>\n",
       "    </tr>\n",
       "  </thead>\n",
       "  <tbody>\n",
       "    <tr>\n",
       "      <th id=\"T_91fea_level0_row0\" class=\"row_heading level0 row0\" >Column2Table</th>\n",
       "      <td id=\"T_91fea_row0_col0\" class=\"data row0 col0\" >0.730000</td>\n",
       "      <td id=\"T_91fea_row0_col1\" class=\"data row0 col1\" >0.360000</td>\n",
       "      <td id=\"T_91fea_row0_col2\" class=\"data row0 col2\" >0.280000</td>\n",
       "      <td id=\"T_91fea_row0_col3\" class=\"data row0 col3\" >0.280000</td>\n",
       "      <td id=\"T_91fea_row0_col4\" class=\"data row0 col4\" >0.600000</td>\n",
       "    </tr>\n",
       "    <tr>\n",
       "      <th id=\"T_91fea_level0_row1\" class=\"row_heading level0 row1\" >Table2Table</th>\n",
       "      <td id=\"T_91fea_row1_col0\" class=\"data row1 col0\" >0.850000</td>\n",
       "      <td id=\"T_91fea_row1_col1\" class=\"data row1 col1\" >0.400000</td>\n",
       "      <td id=\"T_91fea_row1_col2\" class=\"data row1 col2\" >0.640000</td>\n",
       "      <td id=\"T_91fea_row1_col3\" class=\"data row1 col3\" >0.450000</td>\n",
       "      <td id=\"T_91fea_row1_col4\" class=\"data row1 col4\" >0.620000</td>\n",
       "    </tr>\n",
       "    <tr>\n",
       "      <th id=\"T_91fea_level0_row2\" class=\"row_heading level0 row2\" >NestedJoin</th>\n",
       "      <td id=\"T_91fea_row2_col0\" class=\"data row2 col0\" >0.720000</td>\n",
       "      <td id=\"T_91fea_row2_col1\" class=\"data row2 col1\" >0.330000</td>\n",
       "      <td id=\"T_91fea_row2_col2\" class=\"data row2 col2\" >0.400000</td>\n",
       "      <td id=\"T_91fea_row2_col3\" class=\"data row2 col3\" >0.520000</td>\n",
       "      <td id=\"T_91fea_row2_col4\" class=\"data row2 col4\" >0.480000</td>\n",
       "    </tr>\n",
       "    <tr>\n",
       "      <th id=\"T_91fea_level0_row3\" class=\"row_heading level0 row3\" >LLM</th>\n",
       "      <td id=\"T_91fea_row3_col0\" class=\"data row3 col0\" >0.820000</td>\n",
       "      <td id=\"T_91fea_row3_col1\" class=\"data row3 col1\" >0.480000</td>\n",
       "      <td id=\"T_91fea_row3_col2\" class=\"data row3 col2\" >0.430000</td>\n",
       "      <td id=\"T_91fea_row3_col3\" class=\"data row3 col3\" >0.320000</td>\n",
       "      <td id=\"T_91fea_row3_col4\" class=\"data row3 col4\" >0.600000</td>\n",
       "    </tr>\n",
       "  </tbody>\n",
       "</table>\n"
      ],
      "text/plain": [
       "<pandas.io.formats.style.Styler at 0x127486850>"
      ]
     },
     "execution_count": 57,
     "metadata": {},
     "output_type": "execute_result"
    }
   ],
   "source": [
    "main_result = effect_of_table_selection_strategy(\"gpt-4o\", \"llm\", \"gpt-4o\")\n",
    "display(Markdown(\"#### Effect of table selection strategy (gpt-4o-rewrite, gpt-4o-match\"))\n",
    "main_result"
   ]
  },
  {
   "cell_type": "code",
   "execution_count": 58,
   "id": "ee99570e-0242-4e0f-9ad3-0aa2ddf91dbd",
   "metadata": {},
   "outputs": [
    {
     "data": {
      "text/markdown": [
       "#### Effect of table selection strategy (no rewrite, coma"
      ],
      "text/plain": [
       "<IPython.core.display.Markdown object>"
      ]
     },
     "metadata": {},
     "output_type": "display_data"
    },
    {
     "data": {
      "text/html": [
       "<style type=\"text/css\">\n",
       "#T_75a2c_row0_col0, #T_75a2c_row0_col1, #T_75a2c_row0_col4, #T_75a2c_row1_col0, #T_75a2c_row1_col3, #T_75a2c_row2_col0, #T_75a2c_row3_col2 {\n",
       "  text-decoration: underline;\n",
       "}\n",
       "#T_75a2c_row0_col3, #T_75a2c_row1_col1, #T_75a2c_row1_col2, #T_75a2c_row3_col0, #T_75a2c_row3_col4 {\n",
       "  font-weight: bold;\n",
       "}\n",
       "</style>\n",
       "<table id=\"T_75a2c\">\n",
       "  <thead>\n",
       "    <tr>\n",
       "      <th class=\"blank level0\" >&nbsp;</th>\n",
       "      <th id=\"T_75a2c_level0_col0\" class=\"col_heading level0 col0\" >imdb-sakila</th>\n",
       "      <th id=\"T_75a2c_level0_col1\" class=\"col_heading level0 col1\" >cms-omop</th>\n",
       "      <th id=\"T_75a2c_level0_col2\" class=\"col_heading level0 col2\" >cprd_aurum-omop</th>\n",
       "      <th id=\"T_75a2c_level0_col3\" class=\"col_heading level0 col3\" >cprd_gold-omop</th>\n",
       "      <th id=\"T_75a2c_level0_col4\" class=\"col_heading level0 col4\" >mimic_iii-omop</th>\n",
       "    </tr>\n",
       "  </thead>\n",
       "  <tbody>\n",
       "    <tr>\n",
       "      <th id=\"T_75a2c_level0_row0\" class=\"row_heading level0 row0\" >Column2Table</th>\n",
       "      <td id=\"T_75a2c_row0_col0\" class=\"data row0 col0\" >0.120000</td>\n",
       "      <td id=\"T_75a2c_row0_col1\" class=\"data row0 col1\" >0.120000</td>\n",
       "      <td id=\"T_75a2c_row0_col2\" class=\"data row0 col2\" >0.020000</td>\n",
       "      <td id=\"T_75a2c_row0_col3\" class=\"data row0 col3\" >0.210000</td>\n",
       "      <td id=\"T_75a2c_row0_col4\" class=\"data row0 col4\" >0.110000</td>\n",
       "    </tr>\n",
       "    <tr>\n",
       "      <th id=\"T_75a2c_level0_row1\" class=\"row_heading level0 row1\" >Table2Table</th>\n",
       "      <td id=\"T_75a2c_row1_col0\" class=\"data row1 col0\" >0.120000</td>\n",
       "      <td id=\"T_75a2c_row1_col1\" class=\"data row1 col1\" >0.270000</td>\n",
       "      <td id=\"T_75a2c_row1_col2\" class=\"data row1 col2\" >0.070000</td>\n",
       "      <td id=\"T_75a2c_row1_col3\" class=\"data row1 col3\" >0.080000</td>\n",
       "      <td id=\"T_75a2c_row1_col4\" class=\"data row1 col4\" >0.040000</td>\n",
       "    </tr>\n",
       "    <tr>\n",
       "      <th id=\"T_75a2c_level0_row2\" class=\"row_heading level0 row2\" >NestedJoin</th>\n",
       "      <td id=\"T_75a2c_row2_col0\" class=\"data row2 col0\" >0.120000</td>\n",
       "      <td id=\"T_75a2c_row2_col1\" class=\"data row2 col1\" >0.110000</td>\n",
       "      <td id=\"T_75a2c_row2_col2\" class=\"data row2 col2\" >0.000000</td>\n",
       "      <td id=\"T_75a2c_row2_col3\" class=\"data row2 col3\" >0.020000</td>\n",
       "      <td id=\"T_75a2c_row2_col4\" class=\"data row2 col4\" >0.090000</td>\n",
       "    </tr>\n",
       "    <tr>\n",
       "      <th id=\"T_75a2c_level0_row3\" class=\"row_heading level0 row3\" >LLM</th>\n",
       "      <td id=\"T_75a2c_row3_col0\" class=\"data row3 col0\" >0.260000</td>\n",
       "      <td id=\"T_75a2c_row3_col1\" class=\"data row3 col1\" >0.080000</td>\n",
       "      <td id=\"T_75a2c_row3_col2\" class=\"data row3 col2\" >0.050000</td>\n",
       "      <td id=\"T_75a2c_row3_col3\" class=\"data row3 col3\" >0.050000</td>\n",
       "      <td id=\"T_75a2c_row3_col4\" class=\"data row3 col4\" >0.200000</td>\n",
       "    </tr>\n",
       "  </tbody>\n",
       "</table>\n"
      ],
      "text/plain": [
       "<pandas.io.formats.style.Styler at 0x127950b10>"
      ]
     },
     "execution_count": 58,
     "metadata": {},
     "output_type": "execute_result"
    }
   ],
   "source": [
    "main_result = effect_of_table_selection_strategy(\"original\", \"coma\", \"None\")\n",
    "display(Markdown(\"#### Effect of table selection strategy (no rewrite, coma\"))\n",
    "main_result"
   ]
  },
  {
   "cell_type": "code",
   "execution_count": 59,
   "id": "4abf2c9a-6fb9-4558-a2d2-abb66132a0c8",
   "metadata": {},
   "outputs": [
    {
     "data": {
      "text/markdown": [
       "#### Effect of rewrite (LLM-gpt-4o-table-selection, LLM-4o-column-matching)"
      ],
      "text/plain": [
       "<IPython.core.display.Markdown object>"
      ]
     },
     "metadata": {},
     "output_type": "display_data"
    },
    {
     "data": {
      "text/html": [
       "<style type=\"text/css\">\n",
       "#T_5f45c_row0_col0, #T_5f45c_row0_col3, #T_5f45c_row0_col4, #T_5f45c_row1_col4, #T_5f45c_row2_col1, #T_5f45c_row2_col2 {\n",
       "  text-decoration: underline;\n",
       "}\n",
       "#T_5f45c_row0_col1, #T_5f45c_row0_col2, #T_5f45c_row1_col0, #T_5f45c_row1_col2, #T_5f45c_row1_col3, #T_5f45c_row2_col4 {\n",
       "  font-weight: bold;\n",
       "}\n",
       "</style>\n",
       "<table id=\"T_5f45c\">\n",
       "  <thead>\n",
       "    <tr>\n",
       "      <th class=\"blank level0\" >&nbsp;</th>\n",
       "      <th id=\"T_5f45c_level0_col0\" class=\"col_heading level0 col0\" >imdb-sakila</th>\n",
       "      <th id=\"T_5f45c_level0_col1\" class=\"col_heading level0 col1\" >cms-omop</th>\n",
       "      <th id=\"T_5f45c_level0_col2\" class=\"col_heading level0 col2\" >cprd_aurum-omop</th>\n",
       "      <th id=\"T_5f45c_level0_col3\" class=\"col_heading level0 col3\" >cprd_gold-omop</th>\n",
       "      <th id=\"T_5f45c_level0_col4\" class=\"col_heading level0 col4\" >mimic_iii-omop</th>\n",
       "    </tr>\n",
       "  </thead>\n",
       "  <tbody>\n",
       "    <tr>\n",
       "      <th id=\"T_5f45c_level0_row0\" class=\"row_heading level0 row0\" >original</th>\n",
       "      <td id=\"T_5f45c_row0_col0\" class=\"data row0 col0\" >0.920000</td>\n",
       "      <td id=\"T_5f45c_row0_col1\" class=\"data row0 col1\" >0.490000</td>\n",
       "      <td id=\"T_5f45c_row0_col2\" class=\"data row0 col2\" >0.470000</td>\n",
       "      <td id=\"T_5f45c_row0_col3\" class=\"data row0 col3\" >0.340000</td>\n",
       "      <td id=\"T_5f45c_row0_col4\" class=\"data row0 col4\" >0.590000</td>\n",
       "    </tr>\n",
       "    <tr>\n",
       "      <th id=\"T_5f45c_level0_row1\" class=\"row_heading level0 row1\" >gpt-3.5-turbo</th>\n",
       "      <td id=\"T_5f45c_row1_col0\" class=\"data row1 col0\" >0.960000</td>\n",
       "      <td id=\"T_5f45c_row1_col1\" class=\"data row1 col1\" >0.470000</td>\n",
       "      <td id=\"T_5f45c_row1_col2\" class=\"data row1 col2\" >0.470000</td>\n",
       "      <td id=\"T_5f45c_row1_col3\" class=\"data row1 col3\" >0.420000</td>\n",
       "      <td id=\"T_5f45c_row1_col4\" class=\"data row1 col4\" >0.590000</td>\n",
       "    </tr>\n",
       "    <tr>\n",
       "      <th id=\"T_5f45c_level0_row2\" class=\"row_heading level0 row2\" >gpt-4o</th>\n",
       "      <td id=\"T_5f45c_row2_col0\" class=\"data row2 col0\" >0.820000</td>\n",
       "      <td id=\"T_5f45c_row2_col1\" class=\"data row2 col1\" >0.480000</td>\n",
       "      <td id=\"T_5f45c_row2_col2\" class=\"data row2 col2\" >0.430000</td>\n",
       "      <td id=\"T_5f45c_row2_col3\" class=\"data row2 col3\" >0.320000</td>\n",
       "      <td id=\"T_5f45c_row2_col4\" class=\"data row2 col4\" >0.600000</td>\n",
       "    </tr>\n",
       "  </tbody>\n",
       "</table>\n"
      ],
      "text/plain": [
       "<pandas.io.formats.style.Styler at 0x127957550>"
      ]
     },
     "execution_count": 59,
     "metadata": {},
     "output_type": "execute_result"
    }
   ],
   "source": [
    "main_result = effect_of_rewrite(table_selection_strategy='llm', table_selection_llm='gpt-4o', column_matching_strategy='llm', column_matching_llm='gpt-4o')\n",
    "display(Markdown(\"#### Effect of rewrite (LLM-gpt-4o-table-selection, LLM-4o-column-matching)\"))\n",
    "main_result"
   ]
  },
  {
   "cell_type": "code",
   "execution_count": 60,
   "id": "31912baf-bc32-4a50-b68b-5639f049272d",
   "metadata": {},
   "outputs": [
    {
     "data": {
      "text/markdown": [
       "#### Effect of rewrite (LLM-gpt-3.5-table-selection, LLM-3.5-column-matching)"
      ],
      "text/plain": [
       "<IPython.core.display.Markdown object>"
      ]
     },
     "metadata": {},
     "output_type": "display_data"
    },
    {
     "data": {
      "text/html": [
       "<style type=\"text/css\">\n",
       "#T_db230_row0_col0, #T_db230_row1_col1, #T_db230_row1_col2, #T_db230_row1_col4, #T_db230_row2_col3 {\n",
       "  text-decoration: underline;\n",
       "}\n",
       "#T_db230_row0_col2, #T_db230_row0_col4, #T_db230_row1_col0, #T_db230_row1_col3, #T_db230_row2_col0, #T_db230_row2_col1 {\n",
       "  font-weight: bold;\n",
       "}\n",
       "</style>\n",
       "<table id=\"T_db230\">\n",
       "  <thead>\n",
       "    <tr>\n",
       "      <th class=\"blank level0\" >&nbsp;</th>\n",
       "      <th id=\"T_db230_level0_col0\" class=\"col_heading level0 col0\" >imdb-sakila</th>\n",
       "      <th id=\"T_db230_level0_col1\" class=\"col_heading level0 col1\" >cms-omop</th>\n",
       "      <th id=\"T_db230_level0_col2\" class=\"col_heading level0 col2\" >cprd_aurum-omop</th>\n",
       "      <th id=\"T_db230_level0_col3\" class=\"col_heading level0 col3\" >cprd_gold-omop</th>\n",
       "      <th id=\"T_db230_level0_col4\" class=\"col_heading level0 col4\" >mimic_iii-omop</th>\n",
       "    </tr>\n",
       "  </thead>\n",
       "  <tbody>\n",
       "    <tr>\n",
       "      <th id=\"T_db230_level0_row0\" class=\"row_heading level0 row0\" >original</th>\n",
       "      <td id=\"T_db230_row0_col0\" class=\"data row0 col0\" >0.710000</td>\n",
       "      <td id=\"T_db230_row0_col1\" class=\"data row0 col1\" >0.260000</td>\n",
       "      <td id=\"T_db230_row0_col2\" class=\"data row0 col2\" >0.540000</td>\n",
       "      <td id=\"T_db230_row0_col3\" class=\"data row0 col3\" >0.200000</td>\n",
       "      <td id=\"T_db230_row0_col4\" class=\"data row0 col4\" >0.430000</td>\n",
       "    </tr>\n",
       "    <tr>\n",
       "      <th id=\"T_db230_level0_row1\" class=\"row_heading level0 row1\" >gpt-3.5-turbo</th>\n",
       "      <td id=\"T_db230_row1_col0\" class=\"data row1 col0\" >0.720000</td>\n",
       "      <td id=\"T_db230_row1_col1\" class=\"data row1 col1\" >0.370000</td>\n",
       "      <td id=\"T_db230_row1_col2\" class=\"data row1 col2\" >0.500000</td>\n",
       "      <td id=\"T_db230_row1_col3\" class=\"data row1 col3\" >0.330000</td>\n",
       "      <td id=\"T_db230_row1_col4\" class=\"data row1 col4\" >0.420000</td>\n",
       "    </tr>\n",
       "    <tr>\n",
       "      <th id=\"T_db230_level0_row2\" class=\"row_heading level0 row2\" >gpt-4o</th>\n",
       "      <td id=\"T_db230_row2_col0\" class=\"data row2 col0\" >0.720000</td>\n",
       "      <td id=\"T_db230_row2_col1\" class=\"data row2 col1\" >0.550000</td>\n",
       "      <td id=\"T_db230_row2_col2\" class=\"data row2 col2\" >0.300000</td>\n",
       "      <td id=\"T_db230_row2_col3\" class=\"data row2 col3\" >0.270000</td>\n",
       "      <td id=\"T_db230_row2_col4\" class=\"data row2 col4\" >0.360000</td>\n",
       "    </tr>\n",
       "  </tbody>\n",
       "</table>\n"
      ],
      "text/plain": [
       "<pandas.io.formats.style.Styler at 0x1278fad90>"
      ]
     },
     "execution_count": 60,
     "metadata": {},
     "output_type": "execute_result"
    }
   ],
   "source": [
    "main_result = effect_of_rewrite(table_selection_strategy='llm', table_selection_llm='gpt-3.5-turbo', column_matching_strategy='llm', column_matching_llm='gpt-3.5-turbo')\n",
    "display(Markdown(\"#### Effect of rewrite (LLM-gpt-3.5-table-selection, LLM-3.5-column-matching)\"))\n",
    "main_result"
   ]
  },
  {
   "cell_type": "code",
   "execution_count": 63,
   "id": "eb7e3e91-7068-426d-941b-3eca5b3b56de",
   "metadata": {},
   "outputs": [
    {
     "data": {
      "text/markdown": [
       "#### Effect of rewrite (LLM-llama-70b-table-selection, LLM-llama-70b-column-matching)"
      ],
      "text/plain": [
       "<IPython.core.display.Markdown object>"
      ]
     },
     "metadata": {},
     "output_type": "display_data"
    },
    {
     "data": {
      "text/html": [
       "<style type=\"text/css\">\n",
       "#T_52ab8_row0_col0, #T_52ab8_row0_col2, #T_52ab8_row0_col3, #T_52ab8_row0_col4, #T_52ab8_row1_col1 {\n",
       "  text-decoration: underline;\n",
       "}\n",
       "#T_52ab8_row0_col1, #T_52ab8_row1_col0, #T_52ab8_row1_col2, #T_52ab8_row1_col3, #T_52ab8_row1_col4 {\n",
       "  font-weight: bold;\n",
       "}\n",
       "</style>\n",
       "<table id=\"T_52ab8\">\n",
       "  <thead>\n",
       "    <tr>\n",
       "      <th class=\"blank level0\" >&nbsp;</th>\n",
       "      <th id=\"T_52ab8_level0_col0\" class=\"col_heading level0 col0\" >imdb-sakila</th>\n",
       "      <th id=\"T_52ab8_level0_col1\" class=\"col_heading level0 col1\" >cms-omop</th>\n",
       "      <th id=\"T_52ab8_level0_col2\" class=\"col_heading level0 col2\" >cprd_aurum-omop</th>\n",
       "      <th id=\"T_52ab8_level0_col3\" class=\"col_heading level0 col3\" >cprd_gold-omop</th>\n",
       "      <th id=\"T_52ab8_level0_col4\" class=\"col_heading level0 col4\" >mimic_iii-omop</th>\n",
       "    </tr>\n",
       "  </thead>\n",
       "  <tbody>\n",
       "    <tr>\n",
       "      <th id=\"T_52ab8_level0_row0\" class=\"row_heading level0 row0\" >original</th>\n",
       "      <td id=\"T_52ab8_row0_col0\" class=\"data row0 col0\" >0.810000</td>\n",
       "      <td id=\"T_52ab8_row0_col1\" class=\"data row0 col1\" >0.600000</td>\n",
       "      <td id=\"T_52ab8_row0_col2\" class=\"data row0 col2\" >0.440000</td>\n",
       "      <td id=\"T_52ab8_row0_col3\" class=\"data row0 col3\" >0.300000</td>\n",
       "      <td id=\"T_52ab8_row0_col4\" class=\"data row0 col4\" >0.470000</td>\n",
       "    </tr>\n",
       "    <tr>\n",
       "      <th id=\"T_52ab8_level0_row1\" class=\"row_heading level0 row1\" >deepinfra/meta-llama/Meta-Llama-3.1-70B-Instruct</th>\n",
       "      <td id=\"T_52ab8_row1_col0\" class=\"data row1 col0\" >0.820000</td>\n",
       "      <td id=\"T_52ab8_row1_col1\" class=\"data row1 col1\" >0.530000</td>\n",
       "      <td id=\"T_52ab8_row1_col2\" class=\"data row1 col2\" >0.480000</td>\n",
       "      <td id=\"T_52ab8_row1_col3\" class=\"data row1 col3\" >0.430000</td>\n",
       "      <td id=\"T_52ab8_row1_col4\" class=\"data row1 col4\" >0.530000</td>\n",
       "    </tr>\n",
       "  </tbody>\n",
       "</table>\n"
      ],
      "text/plain": [
       "<pandas.io.formats.style.Styler at 0x12121f9d0>"
      ]
     },
     "execution_count": 63,
     "metadata": {},
     "output_type": "execute_result"
    }
   ],
   "source": [
    "main_result = effect_of_rewrite(table_selection_strategy='llm', table_selection_llm='deepinfra/meta-llama/Meta-Llama-3.1-70B-Instruct', column_matching_strategy='llm', column_matching_llm='deepinfra/meta-llama/Meta-Llama-3.1-70B-Instruct')\n",
    "display(Markdown(\"#### Effect of rewrite (LLM-llama-70b-table-selection, LLM-llama-70b-column-matching)\"))\n",
    "main_result"
   ]
  },
  {
   "cell_type": "code",
   "execution_count": 65,
   "id": "226960f0-9db1-40ff-a705-0e1b3dc19654",
   "metadata": {},
   "outputs": [
    {
     "ename": "AssertionError",
     "evalue": " imdb-sakila, 0",
     "output_type": "error",
     "traceback": [
      "\u001b[0;31m---------------------------------------------------------------------------\u001b[0m",
      "\u001b[0;31mAssertionError\u001b[0m                            Traceback (most recent call last)",
      "Cell \u001b[0;32mIn[65], line 1\u001b[0m\n\u001b[0;32m----> 1\u001b[0m main_result \u001b[38;5;241m=\u001b[39m \u001b[43meffect_of_rewrite\u001b[49m\u001b[43m(\u001b[49m\u001b[43mtable_selection_strategy\u001b[49m\u001b[38;5;241;43m=\u001b[39;49m\u001b[38;5;124;43m'\u001b[39;49m\u001b[38;5;124;43mllm\u001b[39;49m\u001b[38;5;124;43m'\u001b[39;49m\u001b[43m,\u001b[49m\u001b[43m \u001b[49m\u001b[43mtable_selection_llm\u001b[49m\u001b[38;5;241;43m=\u001b[39;49m\u001b[38;5;124;43m'\u001b[39;49m\u001b[38;5;124;43mdeepinfra/meta-llama/Meta-Llama-3.1-405B-Instruct\u001b[39;49m\u001b[38;5;124;43m'\u001b[39;49m\u001b[43m,\u001b[49m\u001b[43m \u001b[49m\u001b[43mcolumn_matching_strategy\u001b[49m\u001b[38;5;241;43m=\u001b[39;49m\u001b[38;5;124;43m'\u001b[39;49m\u001b[38;5;124;43mllm\u001b[39;49m\u001b[38;5;124;43m'\u001b[39;49m\u001b[43m,\u001b[49m\u001b[43m \u001b[49m\u001b[43mcolumn_matching_llm\u001b[49m\u001b[38;5;241;43m=\u001b[39;49m\u001b[38;5;124;43m'\u001b[39;49m\u001b[38;5;124;43mdeepinfra/meta-llama/Meta-Llama-3.1-405B-Instruct\u001b[39;49m\u001b[38;5;124;43m'\u001b[39;49m\u001b[43m)\u001b[49m\n\u001b[1;32m      2\u001b[0m display(Markdown(\u001b[38;5;124m\"\u001b[39m\u001b[38;5;124m#### Effect of rewrite (LLM-llama-405b-table-selection, LLM-llama-405b-column-matching)\u001b[39m\u001b[38;5;124m\"\u001b[39m))\n\u001b[1;32m      3\u001b[0m main_result\n",
      "File \u001b[0;32m~/Projects/ontology-alignment/llm_ontology_alignment/evaluations/ontology_matching_evaluation.py:472\u001b[0m, in \u001b[0;36meffect_of_rewrite\u001b[0;34m(table_selection_strategy, table_selection_llm, column_matching_strategy, column_matching_llm)\u001b[0m\n\u001b[1;32m    470\u001b[0m \u001b[38;5;28;01mif\u001b[39;00m queryset\u001b[38;5;241m.\u001b[39mcount() \u001b[38;5;241m>\u001b[39m \u001b[38;5;241m1\u001b[39m:\n\u001b[1;32m    471\u001b[0m     queryset \u001b[38;5;241m=\u001b[39m queryset\u001b[38;5;241m.\u001b[39mfilter(table_selection_llm\u001b[38;5;241m=\u001b[39mtable_selection_llm)\n\u001b[0;32m--> 472\u001b[0m \u001b[38;5;28;01massert\u001b[39;00m queryset\u001b[38;5;241m.\u001b[39mcount() \u001b[38;5;241m==\u001b[39m \u001b[38;5;241m1\u001b[39m, \u001b[38;5;124mf\u001b[39m\u001b[38;5;124m\"\u001b[39m\u001b[38;5;124m \u001b[39m\u001b[38;5;132;01m{\u001b[39;00mexperiment\u001b[38;5;132;01m}\u001b[39;00m\u001b[38;5;124m, \u001b[39m\u001b[38;5;132;01m{\u001b[39;00mqueryset\u001b[38;5;241m.\u001b[39mcount()\u001b[38;5;132;01m}\u001b[39;00m\u001b[38;5;124m\"\u001b[39m\n\u001b[1;32m    473\u001b[0m record \u001b[38;5;241m=\u001b[39m queryset\u001b[38;5;241m.\u001b[39mfirst()\n\u001b[1;32m    474\u001b[0m row\u001b[38;5;241m.\u001b[39mappend(record\u001b[38;5;241m.\u001b[39mf1_score)\n",
      "\u001b[0;31mAssertionError\u001b[0m:  imdb-sakila, 0"
     ]
    }
   ],
   "source": [
    "main_result = effect_of_rewrite(table_selection_strategy='llm', table_selection_llm='deepinfra/meta-llama/Meta-Llama-3.1-405B-Instruct', column_matching_strategy='llm', column_matching_llm='deepinfra/meta-llama/Meta-Llama-3.1-405B-Instruct')\n",
    "display(Markdown(\"#### Effect of rewrite (LLM-llama-405b-table-selection, LLM-llama-405b-column-matching)\"))\n",
    "main_result"
   ]
  },
  {
   "cell_type": "code",
   "execution_count": 66,
   "id": "f4a81eb8-e54c-496b-9ef7-ec4fb1fdb25e",
   "metadata": {},
   "outputs": [
    {
     "data": {
      "text/markdown": [
       "#### Effect of rewrite (LLM-gpt-4o-mini-table-selection, LLM-gpt-4o-mini-column-matching)"
      ],
      "text/plain": [
       "<IPython.core.display.Markdown object>"
      ]
     },
     "metadata": {},
     "output_type": "display_data"
    },
    {
     "data": {
      "text/html": [
       "<style type=\"text/css\">\n",
       "#T_4e0ac_row0_col0, #T_4e0ac_row1_col1, #T_4e0ac_row1_col2, #T_4e0ac_row1_col3, #T_4e0ac_row1_col4 {\n",
       "  text-decoration: underline;\n",
       "}\n",
       "#T_4e0ac_row0_col1, #T_4e0ac_row0_col2, #T_4e0ac_row0_col3, #T_4e0ac_row0_col4, #T_4e0ac_row1_col0 {\n",
       "  font-weight: bold;\n",
       "}\n",
       "</style>\n",
       "<table id=\"T_4e0ac\">\n",
       "  <thead>\n",
       "    <tr>\n",
       "      <th class=\"blank level0\" >&nbsp;</th>\n",
       "      <th id=\"T_4e0ac_level0_col0\" class=\"col_heading level0 col0\" >imdb-sakila</th>\n",
       "      <th id=\"T_4e0ac_level0_col1\" class=\"col_heading level0 col1\" >cms-omop</th>\n",
       "      <th id=\"T_4e0ac_level0_col2\" class=\"col_heading level0 col2\" >cprd_aurum-omop</th>\n",
       "      <th id=\"T_4e0ac_level0_col3\" class=\"col_heading level0 col3\" >cprd_gold-omop</th>\n",
       "      <th id=\"T_4e0ac_level0_col4\" class=\"col_heading level0 col4\" >mimic_iii-omop</th>\n",
       "    </tr>\n",
       "  </thead>\n",
       "  <tbody>\n",
       "    <tr>\n",
       "      <th id=\"T_4e0ac_level0_row0\" class=\"row_heading level0 row0\" >original</th>\n",
       "      <td id=\"T_4e0ac_row0_col0\" class=\"data row0 col0\" >0.790000</td>\n",
       "      <td id=\"T_4e0ac_row0_col1\" class=\"data row0 col1\" >0.550000</td>\n",
       "      <td id=\"T_4e0ac_row0_col2\" class=\"data row0 col2\" >0.430000</td>\n",
       "      <td id=\"T_4e0ac_row0_col3\" class=\"data row0 col3\" >0.370000</td>\n",
       "      <td id=\"T_4e0ac_row0_col4\" class=\"data row0 col4\" >0.600000</td>\n",
       "    </tr>\n",
       "    <tr>\n",
       "      <th id=\"T_4e0ac_level0_row1\" class=\"row_heading level0 row1\" >gpt-4o-mini</th>\n",
       "      <td id=\"T_4e0ac_row1_col0\" class=\"data row1 col0\" >0.810000</td>\n",
       "      <td id=\"T_4e0ac_row1_col1\" class=\"data row1 col1\" >0.370000</td>\n",
       "      <td id=\"T_4e0ac_row1_col2\" class=\"data row1 col2\" >0.400000</td>\n",
       "      <td id=\"T_4e0ac_row1_col3\" class=\"data row1 col3\" >0.350000</td>\n",
       "      <td id=\"T_4e0ac_row1_col4\" class=\"data row1 col4\" >0.510000</td>\n",
       "    </tr>\n",
       "  </tbody>\n",
       "</table>\n"
      ],
      "text/plain": [
       "<pandas.io.formats.style.Styler at 0x127b4e890>"
      ]
     },
     "execution_count": 66,
     "metadata": {},
     "output_type": "execute_result"
    }
   ],
   "source": [
    "main_result = effect_of_rewrite(table_selection_strategy='llm', table_selection_llm='gpt-4o-mini', column_matching_strategy='llm', column_matching_llm='gpt-4o-mini')\n",
    "display(Markdown(\"#### Effect of rewrite (LLM-gpt-4o-mini-table-selection, LLM-gpt-4o-mini-column-matching)\"))\n",
    "main_result"
   ]
  },
  {
   "cell_type": "code",
   "execution_count": 44,
   "id": "8d2bfbd4-eedc-40b8-a3e2-7d2f2ff2d07e",
   "metadata": {},
   "outputs": [
    {
     "data": {
      "text/markdown": [
       "#### Effect of rewrite (None-table-selection, coma)"
      ],
      "text/plain": [
       "<IPython.core.display.Markdown object>"
      ]
     },
     "metadata": {},
     "output_type": "display_data"
    },
    {
     "data": {
      "text/html": [
       "<style type=\"text/css\">\n",
       "#T_546a7_row0_col0, #T_546a7_row0_col4, #T_546a7_row1_col2, #T_546a7_row1_col3, #T_546a7_row1_col4, #T_546a7_row2_col1 {\n",
       "  text-decoration: underline;\n",
       "}\n",
       "#T_546a7_row1_col1, #T_546a7_row2_col0, #T_546a7_row2_col2, #T_546a7_row2_col3, #T_546a7_row2_col4 {\n",
       "  font-weight: bold;\n",
       "}\n",
       "</style>\n",
       "<table id=\"T_546a7\">\n",
       "  <thead>\n",
       "    <tr>\n",
       "      <th class=\"blank level0\" >&nbsp;</th>\n",
       "      <th id=\"T_546a7_level0_col0\" class=\"col_heading level0 col0\" >imdb-sakila</th>\n",
       "      <th id=\"T_546a7_level0_col1\" class=\"col_heading level0 col1\" >cms-omop</th>\n",
       "      <th id=\"T_546a7_level0_col2\" class=\"col_heading level0 col2\" >cprd_aurum-omop</th>\n",
       "      <th id=\"T_546a7_level0_col3\" class=\"col_heading level0 col3\" >cprd_gold-omop</th>\n",
       "      <th id=\"T_546a7_level0_col4\" class=\"col_heading level0 col4\" >mimic_iii-omop</th>\n",
       "    </tr>\n",
       "  </thead>\n",
       "  <tbody>\n",
       "    <tr>\n",
       "      <th id=\"T_546a7_level0_row0\" class=\"row_heading level0 row0\" >original</th>\n",
       "      <td id=\"T_546a7_row0_col0\" class=\"data row0 col0\" >0.150000</td>\n",
       "      <td id=\"T_546a7_row0_col1\" class=\"data row0 col1\" >0.040000</td>\n",
       "      <td id=\"T_546a7_row0_col2\" class=\"data row0 col2\" >0.000000</td>\n",
       "      <td id=\"T_546a7_row0_col3\" class=\"data row0 col3\" >0.020000</td>\n",
       "      <td id=\"T_546a7_row0_col4\" class=\"data row0 col4\" >0.040000</td>\n",
       "    </tr>\n",
       "    <tr>\n",
       "      <th id=\"T_546a7_level0_row1\" class=\"row_heading level0 row1\" >gpt-3.5-turbo</th>\n",
       "      <td id=\"T_546a7_row1_col0\" class=\"data row1 col0\" >0.090000</td>\n",
       "      <td id=\"T_546a7_row1_col1\" class=\"data row1 col1\" >0.100000</td>\n",
       "      <td id=\"T_546a7_row1_col2\" class=\"data row1 col2\" >0.090000</td>\n",
       "      <td id=\"T_546a7_row1_col3\" class=\"data row1 col3\" >0.300000</td>\n",
       "      <td id=\"T_546a7_row1_col4\" class=\"data row1 col4\" >0.040000</td>\n",
       "    </tr>\n",
       "    <tr>\n",
       "      <th id=\"T_546a7_level0_row2\" class=\"row_heading level0 row2\" >gpt-4o</th>\n",
       "      <td id=\"T_546a7_row2_col0\" class=\"data row2 col0\" >0.170000</td>\n",
       "      <td id=\"T_546a7_row2_col1\" class=\"data row2 col1\" >0.070000</td>\n",
       "      <td id=\"T_546a7_row2_col2\" class=\"data row2 col2\" >0.230000</td>\n",
       "      <td id=\"T_546a7_row2_col3\" class=\"data row2 col3\" >0.310000</td>\n",
       "      <td id=\"T_546a7_row2_col4\" class=\"data row2 col4\" >0.160000</td>\n",
       "    </tr>\n",
       "  </tbody>\n",
       "</table>\n"
      ],
      "text/plain": [
       "<pandas.io.formats.style.Styler at 0x127795190>"
      ]
     },
     "execution_count": 44,
     "metadata": {},
     "output_type": "execute_result"
    }
   ],
   "source": [
    "main_result = effect_of_rewrite(table_selection_strategy='None', table_selection_llm='None', column_matching_strategy='coma', column_matching_llm='None')\n",
    "display(Markdown(\"#### Effect of rewrite (None-table-selection, coma)\"))\n",
    "main_result"
   ]
  },
  {
   "cell_type": "code",
   "execution_count": 45,
   "id": "45b81832-b3bb-4c8d-86da-433e80903cef",
   "metadata": {},
   "outputs": [
    {
     "data": {
      "text/markdown": [
       "#### Effect of rewrite (None-table-selection, similarity_flooding)"
      ],
      "text/plain": [
       "<IPython.core.display.Markdown object>"
      ]
     },
     "metadata": {},
     "output_type": "display_data"
    },
    {
     "data": {
      "text/html": [
       "<style type=\"text/css\">\n",
       "#T_beccb_row0_col2, #T_beccb_row0_col4, #T_beccb_row1_col0, #T_beccb_row1_col1, #T_beccb_row1_col4, #T_beccb_row2_col2, #T_beccb_row2_col3 {\n",
       "  text-decoration: underline;\n",
       "}\n",
       "#T_beccb_row1_col2, #T_beccb_row1_col3, #T_beccb_row2_col0, #T_beccb_row2_col1, #T_beccb_row2_col4 {\n",
       "  font-weight: bold;\n",
       "}\n",
       "</style>\n",
       "<table id=\"T_beccb\">\n",
       "  <thead>\n",
       "    <tr>\n",
       "      <th class=\"blank level0\" >&nbsp;</th>\n",
       "      <th id=\"T_beccb_level0_col0\" class=\"col_heading level0 col0\" >imdb-sakila</th>\n",
       "      <th id=\"T_beccb_level0_col1\" class=\"col_heading level0 col1\" >cms-omop</th>\n",
       "      <th id=\"T_beccb_level0_col2\" class=\"col_heading level0 col2\" >cprd_aurum-omop</th>\n",
       "      <th id=\"T_beccb_level0_col3\" class=\"col_heading level0 col3\" >cprd_gold-omop</th>\n",
       "      <th id=\"T_beccb_level0_col4\" class=\"col_heading level0 col4\" >mimic_iii-omop</th>\n",
       "    </tr>\n",
       "  </thead>\n",
       "  <tbody>\n",
       "    <tr>\n",
       "      <th id=\"T_beccb_level0_row0\" class=\"row_heading level0 row0\" >original</th>\n",
       "      <td id=\"T_beccb_row0_col0\" class=\"data row0 col0\" >0.200000</td>\n",
       "      <td id=\"T_beccb_row0_col1\" class=\"data row0 col1\" >0.040000</td>\n",
       "      <td id=\"T_beccb_row0_col2\" class=\"data row0 col2\" >0.100000</td>\n",
       "      <td id=\"T_beccb_row0_col3\" class=\"data row0 col3\" >0.020000</td>\n",
       "      <td id=\"T_beccb_row0_col4\" class=\"data row0 col4\" >0.070000</td>\n",
       "    </tr>\n",
       "    <tr>\n",
       "      <th id=\"T_beccb_level0_row1\" class=\"row_heading level0 row1\" >gpt-3.5-turbo</th>\n",
       "      <td id=\"T_beccb_row1_col0\" class=\"data row1 col0\" >0.330000</td>\n",
       "      <td id=\"T_beccb_row1_col1\" class=\"data row1 col1\" >0.070000</td>\n",
       "      <td id=\"T_beccb_row1_col2\" class=\"data row1 col2\" >0.120000</td>\n",
       "      <td id=\"T_beccb_row1_col3\" class=\"data row1 col3\" >0.190000</td>\n",
       "      <td id=\"T_beccb_row1_col4\" class=\"data row1 col4\" >0.070000</td>\n",
       "    </tr>\n",
       "    <tr>\n",
       "      <th id=\"T_beccb_level0_row2\" class=\"row_heading level0 row2\" >gpt-4o</th>\n",
       "      <td id=\"T_beccb_row2_col0\" class=\"data row2 col0\" >0.440000</td>\n",
       "      <td id=\"T_beccb_row2_col1\" class=\"data row2 col1\" >0.170000</td>\n",
       "      <td id=\"T_beccb_row2_col2\" class=\"data row2 col2\" >0.100000</td>\n",
       "      <td id=\"T_beccb_row2_col3\" class=\"data row2 col3\" >0.140000</td>\n",
       "      <td id=\"T_beccb_row2_col4\" class=\"data row2 col4\" >0.130000</td>\n",
       "    </tr>\n",
       "  </tbody>\n",
       "</table>\n"
      ],
      "text/plain": [
       "<pandas.io.formats.style.Styler at 0x127780b10>"
      ]
     },
     "execution_count": 45,
     "metadata": {},
     "output_type": "execute_result"
    }
   ],
   "source": [
    "main_result = effect_of_rewrite(table_selection_strategy='None', table_selection_llm='None', column_matching_strategy='similarity_flooding', column_matching_llm='None')\n",
    "display(Markdown(\"#### Effect of rewrite (None-table-selection, similarity_flooding)\"))\n",
    "main_result"
   ]
  },
  {
   "cell_type": "code",
   "execution_count": null,
   "id": "8b23ed07-fa28-4804-b780-6adcef3a7fff",
   "metadata": {},
   "outputs": [],
   "source": [
    "main_result = effect_of_rewrite(table_selection_strategy='llm', table_selection_llm='gpt-3.5-turbo', column_matching_strategy='llm', column_matching_llm='gpt-3.5-turbo')\n",
    "display(Markdown(\"#### Effect of rewrite (LLM-gpt-3.5-table-selection, LLM-3.5-column-matching)\"))\n",
    "main_result"
   ]
  }
 ],
 "metadata": {
  "kernelspec": {
   "display_name": "Python 3 (ipykernel)",
   "language": "python",
   "name": "python3"
  },
  "language_info": {
   "codemirror_mode": {
    "name": "ipython",
    "version": 3
   },
   "file_extension": ".py",
   "mimetype": "text/x-python",
   "name": "python",
   "nbconvert_exporter": "python",
   "pygments_lexer": "ipython3",
   "version": "3.11.6"
  }
 },
 "nbformat": 4,
 "nbformat_minor": 5
}
