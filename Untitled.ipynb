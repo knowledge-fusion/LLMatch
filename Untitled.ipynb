{
 "cells": [
  {
   "cell_type": "code",
   "execution_count": 8,
   "id": "254c7fb6-65ed-4c53-8440-ca43deefcdd7",
   "metadata": {},
   "outputs": [],
   "source": [
    "import pandas as pd\n",
    "%load_ext autoreload\n",
    "%autoreload 2"
   ]
  },
  {
   "cell_type": "code",
   "execution_count": 2,
   "id": "937a26c0-ad2e-4e6c-ace9-06642f88be91",
   "metadata": {},
   "outputs": [],
   "source": [
    "filename = \"dataset/OMOP_Synthea_Data.csv\""
   ]
  },
  {
   "cell_type": "code",
   "execution_count": 3,
   "id": "4f6dfbf2-62d5-468f-a0c1-e177f3e831f1",
   "metadata": {},
   "outputs": [],
   "source": [
    "df = pd.read_csv(filename)\n"
   ]
  },
  {
   "cell_type": "code",
   "execution_count": 4,
   "id": "de382bc1-f413-4e56-8299-43ebb03685e8",
   "metadata": {},
   "outputs": [
    {
     "data": {
      "text/html": [
       "<div>\n",
       "<style scoped>\n",
       "    .dataframe tbody tr th:only-of-type {\n",
       "        vertical-align: middle;\n",
       "    }\n",
       "\n",
       "    .dataframe tbody tr th {\n",
       "        vertical-align: top;\n",
       "    }\n",
       "\n",
       "    .dataframe thead th {\n",
       "        text-align: right;\n",
       "    }\n",
       "</style>\n",
       "<table border=\"1\" class=\"dataframe\">\n",
       "  <thead>\n",
       "    <tr style=\"text-align: right;\">\n",
       "      <th></th>\n",
       "      <th>omop</th>\n",
       "      <th>table</th>\n",
       "      <th>des1</th>\n",
       "      <th>des2</th>\n",
       "      <th>label</th>\n",
       "      <th>d1</th>\n",
       "      <th>d2</th>\n",
       "      <th>d3</th>\n",
       "      <th>d4</th>\n",
       "    </tr>\n",
       "  </thead>\n",
       "  <tbody>\n",
       "    <tr>\n",
       "      <th>0</th>\n",
       "      <td>person-person_id</td>\n",
       "      <td>allergies-start</td>\n",
       "      <td>the person domain contains records that unique...</td>\n",
       "      <td>patient allergy data.;the date the allergy was...</td>\n",
       "      <td>0</td>\n",
       "      <td>the person domain contains records that unique...</td>\n",
       "      <td>a unique identifier for each person.</td>\n",
       "      <td>patient allergy data.</td>\n",
       "      <td>the date the allergy was diagnosed.</td>\n",
       "    </tr>\n",
       "    <tr>\n",
       "      <th>1</th>\n",
       "      <td>person-person_id</td>\n",
       "      <td>allergies-stop</td>\n",
       "      <td>the person domain contains records that unique...</td>\n",
       "      <td>patient allergy data.;the date the allergy end...</td>\n",
       "      <td>0</td>\n",
       "      <td>the person domain contains records that unique...</td>\n",
       "      <td>a unique identifier for each person.</td>\n",
       "      <td>patient allergy data.</td>\n",
       "      <td>the date the allergy ended, if applicable.</td>\n",
       "    </tr>\n",
       "    <tr>\n",
       "      <th>2</th>\n",
       "      <td>person-person_id</td>\n",
       "      <td>allergies-patient</td>\n",
       "      <td>the person domain contains records that unique...</td>\n",
       "      <td>patient allergy data.;foreign key to the patient.</td>\n",
       "      <td>0</td>\n",
       "      <td>the person domain contains records that unique...</td>\n",
       "      <td>a unique identifier for each person.</td>\n",
       "      <td>patient allergy data.</td>\n",
       "      <td>foreign key to the patient.</td>\n",
       "    </tr>\n",
       "    <tr>\n",
       "      <th>3</th>\n",
       "      <td>person-person_id</td>\n",
       "      <td>allergies-encounter</td>\n",
       "      <td>the person domain contains records that unique...</td>\n",
       "      <td>patient allergy data.;foreign key to the encou...</td>\n",
       "      <td>0</td>\n",
       "      <td>the person domain contains records that unique...</td>\n",
       "      <td>a unique identifier for each person.</td>\n",
       "      <td>patient allergy data.</td>\n",
       "      <td>foreign key to the encounter when the allergy ...</td>\n",
       "    </tr>\n",
       "    <tr>\n",
       "      <th>4</th>\n",
       "      <td>person-person_id</td>\n",
       "      <td>allergies-code</td>\n",
       "      <td>the person domain contains records that unique...</td>\n",
       "      <td>patient allergy data.;allergy code from snomed-ct</td>\n",
       "      <td>0</td>\n",
       "      <td>the person domain contains records that unique...</td>\n",
       "      <td>a unique identifier for each person.</td>\n",
       "      <td>patient allergy data.</td>\n",
       "      <td>allergy code from snomed-ct</td>\n",
       "    </tr>\n",
       "  </tbody>\n",
       "</table>\n",
       "</div>"
      ],
      "text/plain": [
       "               omop                table  \\\n",
       "0  person-person_id      allergies-start   \n",
       "1  person-person_id       allergies-stop   \n",
       "2  person-person_id    allergies-patient   \n",
       "3  person-person_id  allergies-encounter   \n",
       "4  person-person_id       allergies-code   \n",
       "\n",
       "                                                des1  \\\n",
       "0  the person domain contains records that unique...   \n",
       "1  the person domain contains records that unique...   \n",
       "2  the person domain contains records that unique...   \n",
       "3  the person domain contains records that unique...   \n",
       "4  the person domain contains records that unique...   \n",
       "\n",
       "                                                des2  label  \\\n",
       "0  patient allergy data.;the date the allergy was...      0   \n",
       "1  patient allergy data.;the date the allergy end...      0   \n",
       "2  patient allergy data.;foreign key to the patient.      0   \n",
       "3  patient allergy data.;foreign key to the encou...      0   \n",
       "4  patient allergy data.;allergy code from snomed-ct      0   \n",
       "\n",
       "                                                  d1  \\\n",
       "0  the person domain contains records that unique...   \n",
       "1  the person domain contains records that unique...   \n",
       "2  the person domain contains records that unique...   \n",
       "3  the person domain contains records that unique...   \n",
       "4  the person domain contains records that unique...   \n",
       "\n",
       "                                     d2                     d3  \\\n",
       "0  a unique identifier for each person.  patient allergy data.   \n",
       "1  a unique identifier for each person.  patient allergy data.   \n",
       "2  a unique identifier for each person.  patient allergy data.   \n",
       "3  a unique identifier for each person.  patient allergy data.   \n",
       "4  a unique identifier for each person.  patient allergy data.   \n",
       "\n",
       "                                                  d4  \n",
       "0                the date the allergy was diagnosed.  \n",
       "1         the date the allergy ended, if applicable.  \n",
       "2                        foreign key to the patient.  \n",
       "3  foreign key to the encounter when the allergy ...  \n",
       "4                        allergy code from snomed-ct  "
      ]
     },
     "execution_count": 4,
     "metadata": {},
     "output_type": "execute_result"
    }
   ],
   "source": [
    "df.head()"
   ]
  },
  {
   "cell_type": "code",
   "execution_count": 21,
   "id": "c276b8ce-7763-4def-9d1d-9e18f43b7948",
   "metadata": {},
   "outputs": [],
   "source": [
    "from llm_ontology_alignment import separate_dataset\n",
    "source_schema, target_schema = separate_dataset(df)"
   ]
  },
  {
   "cell_type": "code",
   "execution_count": 24,
   "id": "e9544668-7607-47cf-a435-16d8ea5166d5",
   "metadata": {},
   "outputs": [
    {
     "name": "stdout",
     "output_type": "stream",
     "text": [
      "dict_keys(['person_id', 'gender_concept_id', 'year_of_birth', 'month_of_birth', 'day_of_birth', 'birth_datetime', 'death_datetime', 'race_concept_id', 'ethnicity_concept_id', 'location_id', 'provider_id', 'care_site_id', 'person_source_value', 'gender_source_value', 'gender_source_concept_id', 'race_source_value', 'race_source_concept_id', 'ethnicity_source_value', 'ethnicity_source_concept_id'])\n"
     ]
    }
   ],
   "source": [
    "print(source_schema['person'].keys())"
   ]
  },
  {
   "cell_type": "code",
   "execution_count": null,
   "id": "4a7d3090-a841-4611-a609-8deaf35ed51e",
   "metadata": {},
   "outputs": [],
   "source": []
  }
 ],
 "metadata": {
  "kernelspec": {
   "display_name": "Python 3 (ipykernel)",
   "language": "python",
   "name": "python3"
  },
  "language_info": {
   "codemirror_mode": {
    "name": "ipython",
    "version": 3
   },
   "file_extension": ".py",
   "mimetype": "text/x-python",
   "name": "python",
   "nbconvert_exporter": "python",
   "pygments_lexer": "ipython3",
   "version": "3.11.6"
  }
 },
 "nbformat": 4,
 "nbformat_minor": 5
}
